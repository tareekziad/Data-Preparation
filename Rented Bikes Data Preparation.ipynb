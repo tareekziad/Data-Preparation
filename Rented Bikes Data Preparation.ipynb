{
 "cells": [
  {
   "cell_type": "markdown",
   "id": "345890e3",
   "metadata": {},
   "source": [
    "## Rented Bikes Data Preparation "
   ]
  },
  {
   "cell_type": "markdown",
   "id": "758a3031",
   "metadata": {},
   "source": [
    "#### Import some helper Packages"
   ]
  },
  {
   "cell_type": "code",
   "execution_count": 2480,
   "id": "ccab4d3b",
   "metadata": {},
   "outputs": [],
   "source": [
    "import pandas as pd \n",
    "import numpy as np \n",
    "import matplotlib.pyplot as plt \n",
    "import seaborn as sns\n",
    "import warnings\n",
    "from datetime import datetime as dt\n",
    "import os \n",
    "import missingno as msno\n",
    "from IPython.display import Image\n",
    "import random"
   ]
  },
  {
   "cell_type": "code",
   "execution_count": 2481,
   "id": "d8049b52",
   "metadata": {},
   "outputs": [],
   "source": [
    "from sklearn.impute import KNNImputer , SimpleImputer\n",
    "from sklearn.model_selection import train_test_split\n",
    "from datasist.structdata import detect_outliers\n",
    "from sklearn.preprocessing import OneHotEncoder\n",
    "from category_encoders import BinaryEncoder"
   ]
  },
  {
   "cell_type": "code",
   "execution_count": 2482,
   "id": "55b1be37",
   "metadata": {},
   "outputs": [],
   "source": [
    "warnings.filterwarnings('ignore')"
   ]
  },
  {
   "cell_type": "code",
   "execution_count": 2483,
   "id": "2d79241c",
   "metadata": {},
   "outputs": [],
   "source": [
    "%matplotlib inline"
   ]
  },
  {
   "cell_type": "code",
   "execution_count": 2484,
   "id": "98c978d9",
   "metadata": {},
   "outputs": [],
   "source": [
    "sns.set_theme(context = 'notebook' , style = 'darkgrid' , palette = 'flare' , font_scale = 1.1,\n",
    "             rc = {'figure.figsize' : (5,5)})"
   ]
  },
  {
   "cell_type": "markdown",
   "id": "9f45d551",
   "metadata": {},
   "source": [
    "###### Read dataset"
   ]
  },
  {
   "cell_type": "code",
   "execution_count": 2485,
   "id": "cdd70a94",
   "metadata": {},
   "outputs": [
    {
     "data": {
      "text/html": [
       "<div>\n",
       "<style scoped>\n",
       "    .dataframe tbody tr th:only-of-type {\n",
       "        vertical-align: middle;\n",
       "    }\n",
       "\n",
       "    .dataframe tbody tr th {\n",
       "        vertical-align: top;\n",
       "    }\n",
       "\n",
       "    .dataframe thead th {\n",
       "        text-align: right;\n",
       "    }\n",
       "</style>\n",
       "<table border=\"1\" class=\"dataframe\">\n",
       "  <thead>\n",
       "    <tr style=\"text-align: right;\">\n",
       "      <th></th>\n",
       "      <th>datetime</th>\n",
       "      <th>season</th>\n",
       "      <th>holiday</th>\n",
       "      <th>workingday</th>\n",
       "      <th>weather</th>\n",
       "      <th>temp</th>\n",
       "      <th>humidity</th>\n",
       "      <th>windspeed</th>\n",
       "      <th>casual</th>\n",
       "      <th>registered</th>\n",
       "      <th>rented_bikes_count</th>\n",
       "      <th>Profit</th>\n",
       "    </tr>\n",
       "  </thead>\n",
       "  <tbody>\n",
       "    <tr>\n",
       "      <th>0</th>\n",
       "      <td>2011-01-01 00:00:00</td>\n",
       "      <td>Spring</td>\n",
       "      <td>0.0</td>\n",
       "      <td>0.0</td>\n",
       "      <td>Clear</td>\n",
       "      <td>9.84</td>\n",
       "      <td>81.0</td>\n",
       "      <td>NaN</td>\n",
       "      <td>3</td>\n",
       "      <td>13</td>\n",
       "      <td>16</td>\n",
       "      <td>107.328767</td>\n",
       "    </tr>\n",
       "    <tr>\n",
       "      <th>1</th>\n",
       "      <td>2011-01-01 01:00:00</td>\n",
       "      <td>Spring</td>\n",
       "      <td>0.0</td>\n",
       "      <td>0.0</td>\n",
       "      <td>NaN</td>\n",
       "      <td>9.02</td>\n",
       "      <td>80.0</td>\n",
       "      <td>0.0</td>\n",
       "      <td>8</td>\n",
       "      <td>32</td>\n",
       "      <td>40</td>\n",
       "      <td>275.028767</td>\n",
       "    </tr>\n",
       "  </tbody>\n",
       "</table>\n",
       "</div>"
      ],
      "text/plain": [
       "              datetime  season  holiday  workingday weather  temp  humidity  \\\n",
       "0  2011-01-01 00:00:00  Spring      0.0         0.0   Clear  9.84      81.0   \n",
       "1  2011-01-01 01:00:00  Spring      0.0         0.0     NaN  9.02      80.0   \n",
       "\n",
       "   windspeed  casual  registered  rented_bikes_count      Profit  \n",
       "0        NaN       3          13                  16  107.328767  \n",
       "1        0.0       8          32                  40  275.028767  "
      ]
     },
     "execution_count": 2485,
     "metadata": {},
     "output_type": "execute_result"
    }
   ],
   "source": [
    "df = pd.read_csv('bikes_mod.csv')\n",
    "df.head(2)"
   ]
  },
  {
   "cell_type": "code",
   "execution_count": 2486,
   "id": "280e3e02",
   "metadata": {},
   "outputs": [
    {
     "data": {
      "text/plain": [
       "(10886, 12)"
      ]
     },
     "execution_count": 2486,
     "metadata": {},
     "output_type": "execute_result"
    }
   ],
   "source": [
    "df.shape"
   ]
  },
  {
   "cell_type": "code",
   "execution_count": 2487,
   "id": "08055062",
   "metadata": {},
   "outputs": [
    {
     "name": "stdout",
     "output_type": "stream",
     "text": [
      "<class 'pandas.core.frame.DataFrame'>\n",
      "RangeIndex: 10886 entries, 0 to 10885\n",
      "Data columns (total 12 columns):\n",
      " #   Column              Non-Null Count  Dtype  \n",
      "---  ------              --------------  -----  \n",
      " 0   datetime            10886 non-null  object \n",
      " 1   season              10672 non-null  object \n",
      " 2   holiday             10030 non-null  float64\n",
      " 3   workingday          9388 non-null   float64\n",
      " 4   weather             8746 non-null   object \n",
      " 5   temp                8104 non-null   float64\n",
      " 6   humidity            7462 non-null   float64\n",
      " 7   windspeed           6820 non-null   float64\n",
      " 8   casual              10886 non-null  int64  \n",
      " 9   registered          10886 non-null  int64  \n",
      " 10  rented_bikes_count  10886 non-null  int64  \n",
      " 11  Profit              10886 non-null  float64\n",
      "dtypes: float64(6), int64(3), object(3)\n",
      "memory usage: 1020.7+ KB\n"
     ]
    }
   ],
   "source": [
    "df.info()"
   ]
  },
  {
   "cell_type": "code",
   "execution_count": 2488,
   "id": "98b940c1",
   "metadata": {
    "scrolled": false
   },
   "outputs": [
    {
     "data": {
      "text/plain": [
       "<AxesSubplot:>"
      ]
     },
     "execution_count": 2488,
     "metadata": {},
     "output_type": "execute_result"
    },
    {
     "data": {
      "image/png": "[encoded data removed]",
      "text/plain": [
       "<Figure size 720x360 with 3 Axes>"
      ]
     },
     "metadata": {},
     "output_type": "display_data"
    }
   ],
   "source": [
    "msno.bar(df , figsize = (10,5))"
   ]
  },
  {
   "cell_type": "code",
   "execution_count": 2489,
   "id": "edaa0688",
   "metadata": {
    "scrolled": false
   },
   "outputs": [
    {
     "data": {
      "text/plain": [
       "datetime               0.000000\n",
       "season                 1.965828\n",
       "holiday                7.863311\n",
       "workingday            13.760794\n",
       "weather               19.658277\n",
       "temp                  25.555760\n",
       "humidity              31.453243\n",
       "windspeed             37.350726\n",
       "casual                 0.000000\n",
       "registered             0.000000\n",
       "rented_bikes_count     0.000000\n",
       "Profit                 0.000000\n",
       "dtype: float64"
      ]
     },
     "execution_count": 2489,
     "metadata": {},
     "output_type": "execute_result"
    }
   ],
   "source": [
    "df.isnull().mean()*100"
   ]
  },
  {
   "cell_type": "code",
   "execution_count": 2490,
   "id": "8c10e168",
   "metadata": {
    "scrolled": true
   },
   "outputs": [
    {
     "data": {
      "text/html": [
       "<div>\n",
       "<style scoped>\n",
       "    .dataframe tbody tr th:only-of-type {\n",
       "        vertical-align: middle;\n",
       "    }\n",
       "\n",
       "    .dataframe tbody tr th {\n",
       "        vertical-align: top;\n",
       "    }\n",
       "\n",
       "    .dataframe thead th {\n",
       "        text-align: right;\n",
       "    }\n",
       "</style>\n",
       "<table border=\"1\" class=\"dataframe\">\n",
       "  <thead>\n",
       "    <tr style=\"text-align: right;\">\n",
       "      <th></th>\n",
       "      <th>datetime</th>\n",
       "      <th>season</th>\n",
       "      <th>holiday</th>\n",
       "      <th>workingday</th>\n",
       "      <th>weather</th>\n",
       "      <th>temp</th>\n",
       "      <th>humidity</th>\n",
       "      <th>windspeed</th>\n",
       "      <th>casual</th>\n",
       "      <th>registered</th>\n",
       "      <th>rented_bikes_count</th>\n",
       "      <th>Profit</th>\n",
       "    </tr>\n",
       "  </thead>\n",
       "  <tbody>\n",
       "    <tr>\n",
       "      <th>0</th>\n",
       "      <td>2011-01-01 00:00:00</td>\n",
       "      <td>Spring</td>\n",
       "      <td>0.0</td>\n",
       "      <td>0.0</td>\n",
       "      <td>Clear</td>\n",
       "      <td>9.84</td>\n",
       "      <td>81.0</td>\n",
       "      <td>NaN</td>\n",
       "      <td>3</td>\n",
       "      <td>13</td>\n",
       "      <td>16</td>\n",
       "      <td>107.328767</td>\n",
       "    </tr>\n",
       "    <tr>\n",
       "      <th>1</th>\n",
       "      <td>2011-01-01 01:00:00</td>\n",
       "      <td>Spring</td>\n",
       "      <td>0.0</td>\n",
       "      <td>0.0</td>\n",
       "      <td>NaN</td>\n",
       "      <td>9.02</td>\n",
       "      <td>80.0</td>\n",
       "      <td>0.0</td>\n",
       "      <td>8</td>\n",
       "      <td>32</td>\n",
       "      <td>40</td>\n",
       "      <td>275.028767</td>\n",
       "    </tr>\n",
       "    <tr>\n",
       "      <th>2</th>\n",
       "      <td>2011-01-01 02:00:00</td>\n",
       "      <td>Spring</td>\n",
       "      <td>0.0</td>\n",
       "      <td>0.0</td>\n",
       "      <td>Clear</td>\n",
       "      <td>9.02</td>\n",
       "      <td>NaN</td>\n",
       "      <td>0.0</td>\n",
       "      <td>5</td>\n",
       "      <td>27</td>\n",
       "      <td>32</td>\n",
       "      <td>201.928767</td>\n",
       "    </tr>\n",
       "    <tr>\n",
       "      <th>3</th>\n",
       "      <td>2011-01-01 03:00:00</td>\n",
       "      <td>Spring</td>\n",
       "      <td>0.0</td>\n",
       "      <td>0.0</td>\n",
       "      <td>Clear</td>\n",
       "      <td>9.84</td>\n",
       "      <td>75.0</td>\n",
       "      <td>0.0</td>\n",
       "      <td>3</td>\n",
       "      <td>10</td>\n",
       "      <td>13</td>\n",
       "      <td>94.428767</td>\n",
       "    </tr>\n",
       "    <tr>\n",
       "      <th>4</th>\n",
       "      <td>2011-01-01 04:00:00</td>\n",
       "      <td>NaN</td>\n",
       "      <td>0.0</td>\n",
       "      <td>0.0</td>\n",
       "      <td>Clear</td>\n",
       "      <td>NaN</td>\n",
       "      <td>75.0</td>\n",
       "      <td>NaN</td>\n",
       "      <td>0</td>\n",
       "      <td>1</td>\n",
       "      <td>1</td>\n",
       "      <td>4.128767</td>\n",
       "    </tr>\n",
       "  </tbody>\n",
       "</table>\n",
       "</div>"
      ],
      "text/plain": [
       "              datetime  season  holiday  workingday weather  temp  humidity  \\\n",
       "0  2011-01-01 00:00:00  Spring      0.0         0.0   Clear  9.84      81.0   \n",
       "1  2011-01-01 01:00:00  Spring      0.0         0.0     NaN  9.02      80.0   \n",
       "2  2011-01-01 02:00:00  Spring      0.0         0.0   Clear  9.02       NaN   \n",
       "3  2011-01-01 03:00:00  Spring      0.0         0.0   Clear  9.84      75.0   \n",
       "4  2011-01-01 04:00:00     NaN      0.0         0.0   Clear   NaN      75.0   \n",
       "\n",
       "   windspeed  casual  registered  rented_bikes_count      Profit  \n",
       "0        NaN       3          13                  16  107.328767  \n",
       "1        0.0       8          32                  40  275.028767  \n",
       "2        0.0       5          27                  32  201.928767  \n",
       "3        0.0       3          10                  13   94.428767  \n",
       "4        NaN       0           1                   1    4.128767  "
      ]
     },
     "execution_count": 2490,
     "metadata": {},
     "output_type": "execute_result"
    }
   ],
   "source": [
    "df.head()"
   ]
  },
  {
   "cell_type": "markdown",
   "id": "b6d7ae97",
   "metadata": {},
   "source": [
    "###### How do we benefit from Datetime Feature :"
   ]
  },
  {
   "cell_type": "code",
   "execution_count": 2491,
   "id": "262c348c",
   "metadata": {},
   "outputs": [
    {
     "data": {
      "text/plain": [
       "dtype('O')"
      ]
     },
     "execution_count": 2491,
     "metadata": {},
     "output_type": "execute_result"
    }
   ],
   "source": [
    "df['datetime'].dtype # datetime is object(string) as data type !! convert to datetime "
   ]
  },
  {
   "cell_type": "code",
   "execution_count": 2492,
   "id": "ff6a9ad7",
   "metadata": {},
   "outputs": [],
   "source": [
    "df['datetime'] = pd.to_datetime(df['datetime'] , errors = 'coerce')"
   ]
  },
  {
   "cell_type": "code",
   "execution_count": 2493,
   "id": "26477f6b",
   "metadata": {},
   "outputs": [
    {
     "data": {
      "text/plain": [
       "dtype('<M8[ns]')"
      ]
     },
     "execution_count": 2493,
     "metadata": {},
     "output_type": "execute_result"
    }
   ],
   "source": [
    "df['datetime'].dtype"
   ]
  },
  {
   "cell_type": "markdown",
   "id": "8131108a",
   "metadata": {},
   "source": [
    "###### We can cxtract from it Year , month name , day name , hours , etc ..."
   ]
  },
  {
   "cell_type": "code",
   "execution_count": 2494,
   "id": "f28c5ebb",
   "metadata": {},
   "outputs": [],
   "source": [
    "df['Day'] = df['datetime'].dt.day_name()"
   ]
  },
  {
   "cell_type": "code",
   "execution_count": 2495,
   "id": "8341d583",
   "metadata": {},
   "outputs": [],
   "source": [
    "df['Month'] = df['datetime'].dt.month_name()"
   ]
  },
  {
   "cell_type": "code",
   "execution_count": 2496,
   "id": "4e40e0ce",
   "metadata": {},
   "outputs": [],
   "source": [
    "df['Year'] = df['datetime'].dt.year"
   ]
  },
  {
   "cell_type": "code",
   "execution_count": 2497,
   "id": "12bd7ee6",
   "metadata": {},
   "outputs": [],
   "source": [
    "df['Hours'] = df['datetime'].dt.hour"
   ]
  },
  {
   "cell_type": "markdown",
   "id": "076ad5b8",
   "metadata": {},
   "source": [
    "###### Now Drop datetime columns "
   ]
  },
  {
   "cell_type": "code",
   "execution_count": 2498,
   "id": "a66a68a0",
   "metadata": {},
   "outputs": [],
   "source": [
    "df.drop(['datetime'] , axis = 1 , inplace = True)"
   ]
  },
  {
   "cell_type": "code",
   "execution_count": 2499,
   "id": "5c76b376",
   "metadata": {},
   "outputs": [
    {
     "data": {
      "text/html": [
       "<div>\n",
       "<style scoped>\n",
       "    .dataframe tbody tr th:only-of-type {\n",
       "        vertical-align: middle;\n",
       "    }\n",
       "\n",
       "    .dataframe tbody tr th {\n",
       "        vertical-align: top;\n",
       "    }\n",
       "\n",
       "    .dataframe thead th {\n",
       "        text-align: right;\n",
       "    }\n",
       "</style>\n",
       "<table border=\"1\" class=\"dataframe\">\n",
       "  <thead>\n",
       "    <tr style=\"text-align: right;\">\n",
       "      <th></th>\n",
       "      <th>season</th>\n",
       "      <th>holiday</th>\n",
       "      <th>workingday</th>\n",
       "      <th>weather</th>\n",
       "      <th>temp</th>\n",
       "      <th>humidity</th>\n",
       "      <th>windspeed</th>\n",
       "      <th>casual</th>\n",
       "      <th>registered</th>\n",
       "      <th>rented_bikes_count</th>\n",
       "      <th>Profit</th>\n",
       "      <th>Day</th>\n",
       "      <th>Month</th>\n",
       "      <th>Year</th>\n",
       "      <th>Hours</th>\n",
       "    </tr>\n",
       "  </thead>\n",
       "  <tbody>\n",
       "    <tr>\n",
       "      <th>0</th>\n",
       "      <td>Spring</td>\n",
       "      <td>0.0</td>\n",
       "      <td>0.0</td>\n",
       "      <td>Clear</td>\n",
       "      <td>9.84</td>\n",
       "      <td>81.0</td>\n",
       "      <td>NaN</td>\n",
       "      <td>3</td>\n",
       "      <td>13</td>\n",
       "      <td>16</td>\n",
       "      <td>107.328767</td>\n",
       "      <td>Saturday</td>\n",
       "      <td>January</td>\n",
       "      <td>2011</td>\n",
       "      <td>0</td>\n",
       "    </tr>\n",
       "    <tr>\n",
       "      <th>1</th>\n",
       "      <td>Spring</td>\n",
       "      <td>0.0</td>\n",
       "      <td>0.0</td>\n",
       "      <td>NaN</td>\n",
       "      <td>9.02</td>\n",
       "      <td>80.0</td>\n",
       "      <td>0.0</td>\n",
       "      <td>8</td>\n",
       "      <td>32</td>\n",
       "      <td>40</td>\n",
       "      <td>275.028767</td>\n",
       "      <td>Saturday</td>\n",
       "      <td>January</td>\n",
       "      <td>2011</td>\n",
       "      <td>1</td>\n",
       "    </tr>\n",
       "  </tbody>\n",
       "</table>\n",
       "</div>"
      ],
      "text/plain": [
       "   season  holiday  workingday weather  temp  humidity  windspeed  casual  \\\n",
       "0  Spring      0.0         0.0   Clear  9.84      81.0        NaN       3   \n",
       "1  Spring      0.0         0.0     NaN  9.02      80.0        0.0       8   \n",
       "\n",
       "   registered  rented_bikes_count      Profit       Day    Month  Year  Hours  \n",
       "0          13                  16  107.328767  Saturday  January  2011      0  \n",
       "1          32                  40  275.028767  Saturday  January  2011      1  "
      ]
     },
     "execution_count": 2499,
     "metadata": {},
     "output_type": "execute_result"
    }
   ],
   "source": [
    "df.head(2)"
   ]
  },
  {
   "cell_type": "markdown",
   "id": "d446313b",
   "metadata": {},
   "source": [
    "###### We can extract day period from hours :"
   ]
  },
  {
   "cell_type": "code",
   "execution_count": 2500,
   "id": "9c907511",
   "metadata": {},
   "outputs": [],
   "source": [
    "def GetDayPeriod(x):\n",
    "    if x in range(0, 13):\n",
    "        return 'morning'\n",
    "    elif x in range(13, 19):\n",
    "        return 'afternoon'\n",
    "    else:\n",
    "        return 'evening'"
   ]
  },
  {
   "cell_type": "code",
   "execution_count": 2501,
   "id": "9b650507",
   "metadata": {},
   "outputs": [],
   "source": [
    "df['DayPeriod'] = df['Hours'].apply(GetDayPeriod)"
   ]
  },
  {
   "cell_type": "markdown",
   "id": "d7e9cdc1",
   "metadata": {},
   "source": [
    "###### Drop Hours columns we don't need it right now "
   ]
  },
  {
   "cell_type": "code",
   "execution_count": 2502,
   "id": "d3e7654e",
   "metadata": {
    "scrolled": true
   },
   "outputs": [],
   "source": [
    "df.drop(['Hours'] , axis = 1 , inplace = True)"
   ]
  },
  {
   "cell_type": "code",
   "execution_count": 2503,
   "id": "e7467ec8",
   "metadata": {},
   "outputs": [
    {
     "data": {
      "text/html": [
       "<div>\n",
       "<style scoped>\n",
       "    .dataframe tbody tr th:only-of-type {\n",
       "        vertical-align: middle;\n",
       "    }\n",
       "\n",
       "    .dataframe tbody tr th {\n",
       "        vertical-align: top;\n",
       "    }\n",
       "\n",
       "    .dataframe thead th {\n",
       "        text-align: right;\n",
       "    }\n",
       "</style>\n",
       "<table border=\"1\" class=\"dataframe\">\n",
       "  <thead>\n",
       "    <tr style=\"text-align: right;\">\n",
       "      <th></th>\n",
       "      <th>season</th>\n",
       "      <th>holiday</th>\n",
       "      <th>workingday</th>\n",
       "      <th>weather</th>\n",
       "      <th>temp</th>\n",
       "      <th>humidity</th>\n",
       "      <th>windspeed</th>\n",
       "      <th>casual</th>\n",
       "      <th>registered</th>\n",
       "      <th>rented_bikes_count</th>\n",
       "      <th>Profit</th>\n",
       "      <th>Day</th>\n",
       "      <th>Month</th>\n",
       "      <th>Year</th>\n",
       "      <th>DayPeriod</th>\n",
       "    </tr>\n",
       "  </thead>\n",
       "  <tbody>\n",
       "    <tr>\n",
       "      <th>0</th>\n",
       "      <td>Spring</td>\n",
       "      <td>0.0</td>\n",
       "      <td>0.0</td>\n",
       "      <td>Clear</td>\n",
       "      <td>9.84</td>\n",
       "      <td>81.0</td>\n",
       "      <td>NaN</td>\n",
       "      <td>3</td>\n",
       "      <td>13</td>\n",
       "      <td>16</td>\n",
       "      <td>107.328767</td>\n",
       "      <td>Saturday</td>\n",
       "      <td>January</td>\n",
       "      <td>2011</td>\n",
       "      <td>morning</td>\n",
       "    </tr>\n",
       "    <tr>\n",
       "      <th>1</th>\n",
       "      <td>Spring</td>\n",
       "      <td>0.0</td>\n",
       "      <td>0.0</td>\n",
       "      <td>NaN</td>\n",
       "      <td>9.02</td>\n",
       "      <td>80.0</td>\n",
       "      <td>0.0</td>\n",
       "      <td>8</td>\n",
       "      <td>32</td>\n",
       "      <td>40</td>\n",
       "      <td>275.028767</td>\n",
       "      <td>Saturday</td>\n",
       "      <td>January</td>\n",
       "      <td>2011</td>\n",
       "      <td>morning</td>\n",
       "    </tr>\n",
       "    <tr>\n",
       "      <th>2</th>\n",
       "      <td>Spring</td>\n",
       "      <td>0.0</td>\n",
       "      <td>0.0</td>\n",
       "      <td>Clear</td>\n",
       "      <td>9.02</td>\n",
       "      <td>NaN</td>\n",
       "      <td>0.0</td>\n",
       "      <td>5</td>\n",
       "      <td>27</td>\n",
       "      <td>32</td>\n",
       "      <td>201.928767</td>\n",
       "      <td>Saturday</td>\n",
       "      <td>January</td>\n",
       "      <td>2011</td>\n",
       "      <td>morning</td>\n",
       "    </tr>\n",
       "    <tr>\n",
       "      <th>3</th>\n",
       "      <td>Spring</td>\n",
       "      <td>0.0</td>\n",
       "      <td>0.0</td>\n",
       "      <td>Clear</td>\n",
       "      <td>9.84</td>\n",
       "      <td>75.0</td>\n",
       "      <td>0.0</td>\n",
       "      <td>3</td>\n",
       "      <td>10</td>\n",
       "      <td>13</td>\n",
       "      <td>94.428767</td>\n",
       "      <td>Saturday</td>\n",
       "      <td>January</td>\n",
       "      <td>2011</td>\n",
       "      <td>morning</td>\n",
       "    </tr>\n",
       "    <tr>\n",
       "      <th>4</th>\n",
       "      <td>NaN</td>\n",
       "      <td>0.0</td>\n",
       "      <td>0.0</td>\n",
       "      <td>Clear</td>\n",
       "      <td>NaN</td>\n",
       "      <td>75.0</td>\n",
       "      <td>NaN</td>\n",
       "      <td>0</td>\n",
       "      <td>1</td>\n",
       "      <td>1</td>\n",
       "      <td>4.128767</td>\n",
       "      <td>Saturday</td>\n",
       "      <td>January</td>\n",
       "      <td>2011</td>\n",
       "      <td>morning</td>\n",
       "    </tr>\n",
       "  </tbody>\n",
       "</table>\n",
       "</div>"
      ],
      "text/plain": [
       "   season  holiday  workingday weather  temp  humidity  windspeed  casual  \\\n",
       "0  Spring      0.0         0.0   Clear  9.84      81.0        NaN       3   \n",
       "1  Spring      0.0         0.0     NaN  9.02      80.0        0.0       8   \n",
       "2  Spring      0.0         0.0   Clear  9.02       NaN        0.0       5   \n",
       "3  Spring      0.0         0.0   Clear  9.84      75.0        0.0       3   \n",
       "4     NaN      0.0         0.0   Clear   NaN      75.0        NaN       0   \n",
       "\n",
       "   registered  rented_bikes_count      Profit       Day    Month  Year  \\\n",
       "0          13                  16  107.328767  Saturday  January  2011   \n",
       "1          32                  40  275.028767  Saturday  January  2011   \n",
       "2          27                  32  201.928767  Saturday  January  2011   \n",
       "3          10                  13   94.428767  Saturday  January  2011   \n",
       "4           1                   1    4.128767  Saturday  January  2011   \n",
       "\n",
       "  DayPeriod  \n",
       "0   morning  \n",
       "1   morning  \n",
       "2   morning  \n",
       "3   morning  \n",
       "4   morning  "
      ]
     },
     "execution_count": 2503,
     "metadata": {},
     "output_type": "execute_result"
    }
   ],
   "source": [
    "df.head()"
   ]
  },
  {
   "cell_type": "markdown",
   "id": "cbc5c767",
   "metadata": {},
   "source": [
    "###### holiday , working day with unlogical values we can delete holiday , working day column "
   ]
  },
  {
   "cell_type": "code",
   "execution_count": 2504,
   "id": "9acb443f",
   "metadata": {},
   "outputs": [],
   "source": [
    "df.drop(['holiday' , 'workingday'] , axis = 1 , inplace = True)"
   ]
  },
  {
   "cell_type": "code",
   "execution_count": 2505,
   "id": "6332e575",
   "metadata": {},
   "outputs": [],
   "source": [
    "df = df[df.select_dtypes('object_').columns.append( df.select_dtypes('number').columns)]"
   ]
  },
  {
   "cell_type": "code",
   "execution_count": 2506,
   "id": "d3c488ae",
   "metadata": {},
   "outputs": [
    {
     "data": {
      "text/plain": [
       "<AxesSubplot:>"
      ]
     },
     "execution_count": 2506,
     "metadata": {},
     "output_type": "execute_result"
    },
    {
     "data": {
      "image/png": "[encoded data removed]",
      "text/plain": [
       "<Figure size 720x360 with 3 Axes>"
      ]
     },
     "metadata": {},
     "output_type": "display_data"
    }
   ],
   "source": [
    "msno.bar(df , figsize=(10,5))"
   ]
  },
  {
   "cell_type": "markdown",
   "id": "ae12f0d2",
   "metadata": {},
   "source": [
    "###### split Data into Train & Test : "
   ]
  },
  {
   "cell_type": "code",
   "execution_count": 2507,
   "id": "56b71281",
   "metadata": {},
   "outputs": [],
   "source": [
    "x = df.drop(['Profit'] , axis = 1)\n",
    "y = df['Profit']"
   ]
  },
  {
   "cell_type": "code",
   "execution_count": 2508,
   "id": "76e91723",
   "metadata": {},
   "outputs": [],
   "source": [
    "x_train , x_test , y_train , y_test = train_test_split(x , y \n",
    "                                                       , test_size = 0.20 , random_state = 7)"
   ]
  },
  {
   "cell_type": "code",
   "execution_count": 2509,
   "id": "b74c6485",
   "metadata": {},
   "outputs": [],
   "source": [
    "x_train.reset_index(inplace = True , drop = True)\n",
    "x_test.reset_index(inplace = True , drop = True)\n",
    "y_train.reset_index(inplace = True , drop = True)\n",
    "y_test.reset_index(inplace = True , drop = True)"
   ]
  },
  {
   "cell_type": "code",
   "execution_count": 2510,
   "id": "95f1db6f",
   "metadata": {},
   "outputs": [
    {
     "data": {
      "text/html": [
       "<div>\n",
       "<style scoped>\n",
       "    .dataframe tbody tr th:only-of-type {\n",
       "        vertical-align: middle;\n",
       "    }\n",
       "\n",
       "    .dataframe tbody tr th {\n",
       "        vertical-align: top;\n",
       "    }\n",
       "\n",
       "    .dataframe thead th {\n",
       "        text-align: right;\n",
       "    }\n",
       "</style>\n",
       "<table border=\"1\" class=\"dataframe\">\n",
       "  <thead>\n",
       "    <tr style=\"text-align: right;\">\n",
       "      <th></th>\n",
       "      <th>season</th>\n",
       "      <th>weather</th>\n",
       "      <th>Day</th>\n",
       "      <th>Month</th>\n",
       "      <th>DayPeriod</th>\n",
       "      <th>temp</th>\n",
       "      <th>humidity</th>\n",
       "      <th>windspeed</th>\n",
       "      <th>casual</th>\n",
       "      <th>registered</th>\n",
       "      <th>rented_bikes_count</th>\n",
       "      <th>Year</th>\n",
       "    </tr>\n",
       "  </thead>\n",
       "  <tbody>\n",
       "    <tr>\n",
       "      <th>0</th>\n",
       "      <td>Winter</td>\n",
       "      <td>Clear</td>\n",
       "      <td>Wednesday</td>\n",
       "      <td>December</td>\n",
       "      <td>evening</td>\n",
       "      <td>12.30</td>\n",
       "      <td>NaN</td>\n",
       "      <td>26.0027</td>\n",
       "      <td>5</td>\n",
       "      <td>69</td>\n",
       "      <td>74</td>\n",
       "      <td>2012</td>\n",
       "    </tr>\n",
       "    <tr>\n",
       "      <th>1</th>\n",
       "      <td>Winter</td>\n",
       "      <td>Clear</td>\n",
       "      <td>Thursday</td>\n",
       "      <td>November</td>\n",
       "      <td>morning</td>\n",
       "      <td>13.12</td>\n",
       "      <td>66.0</td>\n",
       "      <td>8.9981</td>\n",
       "      <td>10</td>\n",
       "      <td>10</td>\n",
       "      <td>20</td>\n",
       "      <td>2012</td>\n",
       "    </tr>\n",
       "    <tr>\n",
       "      <th>2</th>\n",
       "      <td>Summer</td>\n",
       "      <td>Clear</td>\n",
       "      <td>Thursday</td>\n",
       "      <td>April</td>\n",
       "      <td>morning</td>\n",
       "      <td>17.22</td>\n",
       "      <td>41.0</td>\n",
       "      <td>19.9995</td>\n",
       "      <td>0</td>\n",
       "      <td>5</td>\n",
       "      <td>5</td>\n",
       "      <td>2012</td>\n",
       "    </tr>\n",
       "  </tbody>\n",
       "</table>\n",
       "</div>"
      ],
      "text/plain": [
       "   season weather        Day     Month DayPeriod   temp  humidity  windspeed  \\\n",
       "0  Winter   Clear  Wednesday  December   evening  12.30       NaN    26.0027   \n",
       "1  Winter   Clear   Thursday  November   morning  13.12      66.0     8.9981   \n",
       "2  Summer   Clear   Thursday     April   morning  17.22      41.0    19.9995   \n",
       "\n",
       "   casual  registered  rented_bikes_count  Year  \n",
       "0       5          69                  74  2012  \n",
       "1      10          10                  20  2012  \n",
       "2       0           5                   5  2012  "
      ]
     },
     "execution_count": 2510,
     "metadata": {},
     "output_type": "execute_result"
    }
   ],
   "source": [
    "x_train.head(3)"
   ]
  },
  {
   "cell_type": "code",
   "execution_count": 2511,
   "id": "8d014501",
   "metadata": {},
   "outputs": [
    {
     "data": {
      "text/plain": [
       "<AxesSubplot:>"
      ]
     },
     "execution_count": 2511,
     "metadata": {},
     "output_type": "execute_result"
    },
    {
     "data": {
      "image/png": "[encoded data removed]",
      "text/plain": [
       "<Figure size 720x288 with 3 Axes>"
      ]
     },
     "metadata": {},
     "output_type": "display_data"
    }
   ],
   "source": [
    "msno.bar(x_train , figsize = (10 , 4))"
   ]
  },
  {
   "cell_type": "code",
   "execution_count": 2512,
   "id": "0f56c799",
   "metadata": {},
   "outputs": [],
   "source": [
    "x_train['Profit'] = y_train\n",
    "x_test['Profit'] = y_test"
   ]
  },
  {
   "cell_type": "code",
   "execution_count": 2513,
   "id": "743a6c53",
   "metadata": {
    "scrolled": false
   },
   "outputs": [
    {
     "data": {
      "text/plain": [
       "season                 1.802940\n",
       "weather               19.763436\n",
       "Day                    0.000000\n",
       "Month                  0.000000\n",
       "DayPeriod              0.000000\n",
       "temp                  25.562701\n",
       "humidity              31.338999\n",
       "windspeed             37.126780\n",
       "casual                 0.000000\n",
       "registered             0.000000\n",
       "rented_bikes_count     0.000000\n",
       "Year                   0.000000\n",
       "Profit                 0.000000\n",
       "dtype: float64"
      ]
     },
     "execution_count": 2513,
     "metadata": {},
     "output_type": "execute_result"
    }
   ],
   "source": [
    "x_train.isnull().mean()*100"
   ]
  },
  {
   "cell_type": "code",
   "execution_count": 2514,
   "id": "2bf11ab3",
   "metadata": {
    "scrolled": true
   },
   "outputs": [
    {
     "data": {
      "text/plain": [
       "season                 2.617080\n",
       "weather               19.237833\n",
       "Day                    0.000000\n",
       "Month                  0.000000\n",
       "DayPeriod              0.000000\n",
       "temp                  25.528007\n",
       "humidity              31.910009\n",
       "windspeed             38.246097\n",
       "casual                 0.000000\n",
       "registered             0.000000\n",
       "rented_bikes_count     0.000000\n",
       "Year                   0.000000\n",
       "Profit                 0.000000\n",
       "dtype: float64"
      ]
     },
     "execution_count": 2514,
     "metadata": {},
     "output_type": "execute_result"
    }
   ],
   "source": [
    "x_test.isnull().mean()*100"
   ]
  },
  {
   "cell_type": "code",
   "execution_count": 2515,
   "id": "4448e7f7",
   "metadata": {},
   "outputs": [],
   "source": [
    "x_train.dropna(subset = ['season'] , axis = 0 , inplace = True)"
   ]
  },
  {
   "cell_type": "code",
   "execution_count": 2516,
   "id": "7805cbe2",
   "metadata": {},
   "outputs": [],
   "source": [
    "x_test.dropna(subset = ['season'] , axis = 0 , inplace = True)"
   ]
  },
  {
   "cell_type": "code",
   "execution_count": 2517,
   "id": "c0ab6145",
   "metadata": {},
   "outputs": [],
   "source": [
    "x_train.reset_index(inplace = True , drop = True)"
   ]
  },
  {
   "cell_type": "code",
   "execution_count": 2518,
   "id": "6c9c0f3b",
   "metadata": {},
   "outputs": [],
   "source": [
    "x_test.reset_index(inplace = True , drop = True)"
   ]
  },
  {
   "cell_type": "code",
   "execution_count": 2519,
   "id": "890f1b2c",
   "metadata": {},
   "outputs": [],
   "source": [
    "x_train_cat = x_train.select_dtypes('object_')\n",
    "x_train_num = x_train.select_dtypes('number')"
   ]
  },
  {
   "cell_type": "code",
   "execution_count": 2520,
   "id": "e5e16dd2",
   "metadata": {},
   "outputs": [],
   "source": [
    "x_test_cat = x_test.select_dtypes('object_')\n",
    "x_test_num = x_test.select_dtypes('number')"
   ]
  },
  {
   "cell_type": "code",
   "execution_count": 2521,
   "id": "0d5a203b",
   "metadata": {
    "scrolled": true
   },
   "outputs": [
    {
     "data": {
      "text/plain": [
       "season        0.000000\n",
       "weather      19.716992\n",
       "Day           0.000000\n",
       "Month         0.000000\n",
       "DayPeriod     0.000000\n",
       "dtype: float64"
      ]
     },
     "execution_count": 2521,
     "metadata": {},
     "output_type": "execute_result"
    }
   ],
   "source": [
    "x_train_cat.isnull().mean()*100"
   ]
  },
  {
   "cell_type": "code",
   "execution_count": 2522,
   "id": "f98762c2",
   "metadata": {},
   "outputs": [
    {
     "data": {
      "text/plain": [
       "season        0.000000\n",
       "weather      19.189062\n",
       "Day           0.000000\n",
       "Month         0.000000\n",
       "DayPeriod     0.000000\n",
       "dtype: float64"
      ]
     },
     "execution_count": 2522,
     "metadata": {},
     "output_type": "execute_result"
    }
   ],
   "source": [
    "x_test_cat.isnull().mean()*100"
   ]
  },
  {
   "cell_type": "markdown",
   "id": "0f98c181",
   "metadata": {},
   "source": [
    "###### Using ffill method to fill null values in weather we cant use mode (most_frequent) because data is sorted with date and time that make fill with mode is unlogical"
   ]
  },
  {
   "cell_type": "code",
   "execution_count": 2523,
   "id": "da7fbf3d",
   "metadata": {},
   "outputs": [],
   "source": [
    "x_train_cat['weather'].fillna(method = 'ffill' , inplace = True)"
   ]
  },
  {
   "cell_type": "code",
   "execution_count": 2524,
   "id": "ba21c4ff",
   "metadata": {},
   "outputs": [],
   "source": [
    "x_test_cat['weather'].fillna(method = 'ffill' , inplace = True)"
   ]
  },
  {
   "cell_type": "code",
   "execution_count": 2525,
   "id": "5b005c2f",
   "metadata": {},
   "outputs": [
    {
     "data": {
      "text/plain": [
       "season       0.0\n",
       "weather      0.0\n",
       "Day          0.0\n",
       "Month        0.0\n",
       "DayPeriod    0.0\n",
       "dtype: float64"
      ]
     },
     "execution_count": 2525,
     "metadata": {},
     "output_type": "execute_result"
    }
   ],
   "source": [
    "x_train_cat.isnull().mean()"
   ]
  },
  {
   "cell_type": "code",
   "execution_count": 2526,
   "id": "147e19a1",
   "metadata": {},
   "outputs": [
    {
     "data": {
      "text/plain": [
       "season       0.0\n",
       "weather      0.0\n",
       "Day          0.0\n",
       "Month        0.0\n",
       "DayPeriod    0.0\n",
       "dtype: float64"
      ]
     },
     "execution_count": 2526,
     "metadata": {},
     "output_type": "execute_result"
    }
   ],
   "source": [
    "x_test_cat.isnull().mean()"
   ]
  },
  {
   "cell_type": "code",
   "execution_count": 2527,
   "id": "5c2b9ff0",
   "metadata": {
    "scrolled": true
   },
   "outputs": [
    {
     "data": {
      "text/plain": [
       "temp                  25.575956\n",
       "humidity              31.516782\n",
       "windspeed             37.059993\n",
       "casual                 0.000000\n",
       "registered             0.000000\n",
       "rented_bikes_count     0.000000\n",
       "Year                   0.000000\n",
       "Profit                 0.000000\n",
       "dtype: float64"
      ]
     },
     "execution_count": 2527,
     "metadata": {},
     "output_type": "execute_result"
    }
   ],
   "source": [
    "x_train_num.isnull().mean()*100"
   ]
  },
  {
   "cell_type": "code",
   "execution_count": 2528,
   "id": "32a94a9d",
   "metadata": {},
   "outputs": [],
   "source": [
    "x_train.reset_index(inplace = True , drop = True)"
   ]
  },
  {
   "cell_type": "code",
   "execution_count": 2529,
   "id": "ee74ee08",
   "metadata": {},
   "outputs": [],
   "source": [
    "x_test.reset_index(drop = True , inplace = True)"
   ]
  },
  {
   "cell_type": "markdown",
   "id": "ca36e82e",
   "metadata": {},
   "source": [
    "###### Detect Outlier Points :"
   ]
  },
  {
   "cell_type": "code",
   "execution_count": 2530,
   "id": "3c07804d",
   "metadata": {},
   "outputs": [],
   "source": [
    "def Detect_Outlier(data , col):\n",
    "    des = data[col].describe()\n",
    "    IQR = des['75%'] - des['25%']\n",
    "    minw , maxw = des['25%'] - (1.5 * IQR) , des['75%'] + (1.5 * IQR)\n",
    "    otlir = data[(data[col] < minw) | (data[col] > maxw)].index\n",
    "    return otlir"
   ]
  },
  {
   "cell_type": "markdown",
   "id": "2bb03674",
   "metadata": {},
   "source": [
    "###### Make new tmp dataframe from x_train_num to fill missing values with median or mean and compare with KNN Imputer"
   ]
  },
  {
   "cell_type": "code",
   "execution_count": 2531,
   "id": "b5b340bb",
   "metadata": {},
   "outputs": [],
   "source": [
    "tmp_num = x_train_num.copy()"
   ]
  },
  {
   "cell_type": "code",
   "execution_count": 2532,
   "id": "bb6ed696",
   "metadata": {
    "scrolled": true
   },
   "outputs": [
    {
     "name": "stdout",
     "output_type": "stream",
     "text": [
      "Temp With ( 0 ) Outlier Point\n",
      "Humidity With ( 13 ) Outlier Point\n",
      "Windspeed With ( 104 ) Outlier Point\n",
      "Casual With ( 589 ) Outlier Point\n",
      "Registered With ( 334 ) Outlier Point\n",
      "Rented_Bikes_Count With ( 232 ) Outlier Point\n",
      "Year With ( 0 ) Outlier Point\n",
      "Profit With ( 313 ) Outlier Point\n"
     ]
    }
   ],
   "source": [
    "for col in tmp_num.columns:\n",
    "    print(f'{col} with ( {len(Detect_Outlier(tmp_num , col))} ) outlier point'.title())"
   ]
  },
  {
   "cell_type": "code",
   "execution_count": 2533,
   "id": "9118ce9e",
   "metadata": {},
   "outputs": [
    {
     "data": {
      "image/png": "[encoded data removed]",
      "text/plain": [
       "<Figure size 360x360 with 1 Axes>"
      ]
     },
     "metadata": {},
     "output_type": "display_data"
    },
    {
     "data": {
      "image/png": "[encoded data removed]",
      "text/plain": [
       "<Figure size 360x360 with 1 Axes>"
      ]
     },
     "metadata": {},
     "output_type": "display_data"
    },
    {
     "data": {
      "image/png": "[encoded data removed]",
      "text/plain": [
       "<Figure size 360x360 with 1 Axes>"
      ]
     },
     "metadata": {},
     "output_type": "display_data"
    },
    {
     "data": {
      "image/png": "[encoded data removed]",
      "text/plain": [
       "<Figure size 360x360 with 1 Axes>"
      ]
     },
     "metadata": {},
     "output_type": "display_data"
    },
    {
     "data": {
      "image/png": "[encoded data removed]",
      "text/plain": [
       "<Figure size 360x360 with 1 Axes>"
      ]
     },
     "metadata": {},
     "output_type": "display_data"
    },
    {
     "data": {
      "image/png": "[encoded data removed]",
      "text/plain": [
       "<Figure size 360x360 with 1 Axes>"
      ]
     },
     "metadata": {},
     "output_type": "display_data"
    },
    {
     "data": {
      "image/png": "[encoded data removed]",
      "text/plain": [
       "<Figure size 360x360 with 1 Axes>"
      ]
     },
     "metadata": {},
     "output_type": "display_data"
    }
   ],
   "source": [
    "for col in tmp_num.drop(['Year'] , axis = 1 ).columns:\n",
    "    plt.figure()\n",
    "    plt.title(f'box plot for {col} '.title())\n",
    "    sns.boxplot(data = tmp_num , x = col)"
   ]
  },
  {
   "cell_type": "markdown",
   "id": "99c79c08",
   "metadata": {},
   "source": [
    "###### Based on most of feature has outlier try fill missing value with median :"
   ]
  },
  {
   "cell_type": "code",
   "execution_count": 2534,
   "id": "8b05a1cb",
   "metadata": {},
   "outputs": [],
   "source": [
    "for col in tmp_num.drop(['Year'] , axis = 1).columns:\n",
    "    null_idx = tmp_num[tmp_num[col].isnull()].index\n",
    "    tmp_num[col].loc[null_idx] = tmp_num[col].median()"
   ]
  },
  {
   "cell_type": "code",
   "execution_count": 2535,
   "id": "d876ff3a",
   "metadata": {
    "scrolled": true
   },
   "outputs": [
    {
     "name": "stdout",
     "output_type": "stream",
     "text": [
      "Temp With ( 42 ) Outlier Point\n",
      "Humidity With ( 325 ) Outlier Point\n",
      "Windspeed With ( 412 ) Outlier Point\n",
      "Casual With ( 589 ) Outlier Point\n",
      "Registered With ( 334 ) Outlier Point\n",
      "Rented_Bikes_Count With ( 232 ) Outlier Point\n",
      "Year With ( 0 ) Outlier Point\n",
      "Profit With ( 313 ) Outlier Point\n"
     ]
    }
   ],
   "source": [
    "for col in tmp_num.columns:\n",
    "    print(f'{col} with ( {len(Detect_Outlier(tmp_num , col))} ) outlier point'.title())"
   ]
  },
  {
   "cell_type": "markdown",
   "id": "323921af",
   "metadata": {},
   "source": [
    "###### Fill missing with median cause increasing in outlier points   !!!!!"
   ]
  },
  {
   "cell_type": "markdown",
   "id": "5460fc77",
   "metadata": {},
   "source": [
    "###### Using KNN imputer to fill missing values in numerical columns "
   ]
  },
  {
   "cell_type": "code",
   "execution_count": 2536,
   "id": "420cf9a6",
   "metadata": {},
   "outputs": [],
   "source": [
    "knn_imputer = KNNImputer()"
   ]
  },
  {
   "cell_type": "code",
   "execution_count": 2537,
   "id": "dec86a1b",
   "metadata": {},
   "outputs": [],
   "source": [
    "x_train_num = pd.DataFrame(data = knn_imputer.fit_transform(x_train_num)\n",
    "             , columns = knn_imputer.get_feature_names_out())"
   ]
  },
  {
   "cell_type": "code",
   "execution_count": 2538,
   "id": "792c2693",
   "metadata": {
    "scrolled": true
   },
   "outputs": [
    {
     "name": "stdout",
     "output_type": "stream",
     "text": [
      "Temp With ( 0 ) Outlier Point\n",
      "Humidity With ( 15 ) Outlier Point\n",
      "Windspeed With ( 200 ) Outlier Point\n",
      "Casual With ( 589 ) Outlier Point\n",
      "Registered With ( 334 ) Outlier Point\n",
      "Rented_Bikes_Count With ( 232 ) Outlier Point\n",
      "Year With ( 0 ) Outlier Point\n",
      "Profit With ( 313 ) Outlier Point\n"
     ]
    }
   ],
   "source": [
    "for col in x_train_num.columns:\n",
    "    print(f'{col} with ( {len(Detect_Outlier(x_train_num , col))} ) outlier point'.title())"
   ]
  },
  {
   "cell_type": "code",
   "execution_count": 2539,
   "id": "f51f00d8",
   "metadata": {
    "scrolled": true
   },
   "outputs": [
    {
     "data": {
      "image/png": "[encoded data removed]",
      "text/plain": [
       "<Figure size 360x360 with 1 Axes>"
      ]
     },
     "metadata": {},
     "output_type": "display_data"
    },
    {
     "data": {
      "image/png": "[encoded data removed]",
      "text/plain": [
       "<Figure size 360x360 with 1 Axes>"
      ]
     },
     "metadata": {},
     "output_type": "display_data"
    },
    {
     "data": {
      "image/png": "[encoded data removed]",
      "text/plain": [
       "<Figure size 360x360 with 1 Axes>"
      ]
     },
     "metadata": {},
     "output_type": "display_data"
    },
    {
     "data": {
      "image/png": "[encoded data removed]",
      "text/plain": [
       "<Figure size 360x360 with 1 Axes>"
      ]
     },
     "metadata": {},
     "output_type": "display_data"
    },
    {
     "data": {
      "image/png": "[encoded data removed]",
      "text/plain": [
       "<Figure size 360x360 with 1 Axes>"
      ]
     },
     "metadata": {},
     "output_type": "display_data"
    },
    {
     "data": {
      "image/png": "[encoded data removed]",
      "text/plain": [
       "<Figure size 360x360 with 1 Axes>"
      ]
     },
     "metadata": {},
     "output_type": "display_data"
    },
    {
     "data": {
      "image/png": "[encoded data removed]",
      "text/plain": [
       "<Figure size 360x360 with 1 Axes>"
      ]
     },
     "metadata": {},
     "output_type": "display_data"
    }
   ],
   "source": [
    "for col in x_train_num.drop(['Year'] , axis = 1 ).columns:\n",
    "    plt.figure()\n",
    "    plt.title(f'box plot for {col} '.title())\n",
    "    sns.boxplot(data = x_train_num , x = col)"
   ]
  },
  {
   "cell_type": "markdown",
   "id": "954e2623",
   "metadata": {},
   "source": [
    "#### Comparing outlier point between median and knn to fill missing values :\n",
    "###### Using KNN Imputer :\n",
    "* Temp With ( 0 ) Outlier Point\n",
    "* Humidity With ( 15 ) Outlier Point\n",
    "* Windspeed With ( 200 ) Outlier Point\n",
    "\n",
    "###### Using median :\n",
    "* Temp With ( 42 ) Outlier Point\n",
    "* Humidity With ( 325 ) Outlier Point\n",
    "* Windspeed With ( 412 ) Outlier Point\n",
    "\n",
    "\n",
    "###### AS we see fill missing with KNN Imputer is better than median so use it in x_test too "
   ]
  },
  {
   "cell_type": "code",
   "execution_count": 2540,
   "id": "732f45a4",
   "metadata": {},
   "outputs": [],
   "source": [
    "knn_imputer = KNNImputer()"
   ]
  },
  {
   "cell_type": "code",
   "execution_count": 2541,
   "id": "a0dc0c66",
   "metadata": {},
   "outputs": [],
   "source": [
    "x_test_num = pd.DataFrame(data = knn_imputer.fit_transform(x_test_num) , \n",
    "                         columns = knn_imputer.get_feature_names_out())"
   ]
  },
  {
   "cell_type": "code",
   "execution_count": 2542,
   "id": "025418d4",
   "metadata": {},
   "outputs": [
    {
     "data": {
      "text/plain": [
       "temp                  0.0\n",
       "humidity              0.0\n",
       "windspeed             0.0\n",
       "casual                0.0\n",
       "registered            0.0\n",
       "rented_bikes_count    0.0\n",
       "Year                  0.0\n",
       "Profit                0.0\n",
       "dtype: float64"
      ]
     },
     "execution_count": 2542,
     "metadata": {},
     "output_type": "execute_result"
    }
   ],
   "source": [
    "x_train_num.isnull().mean()*100"
   ]
  },
  {
   "cell_type": "code",
   "execution_count": 2543,
   "id": "1cb2315c",
   "metadata": {
    "scrolled": true
   },
   "outputs": [
    {
     "data": {
      "text/plain": [
       "temp                  0.0\n",
       "humidity              0.0\n",
       "windspeed             0.0\n",
       "casual                0.0\n",
       "registered            0.0\n",
       "rented_bikes_count    0.0\n",
       "Year                  0.0\n",
       "Profit                0.0\n",
       "dtype: float64"
      ]
     },
     "execution_count": 2543,
     "metadata": {},
     "output_type": "execute_result"
    }
   ],
   "source": [
    "x_test_num.isnull().mean()*100"
   ]
  },
  {
   "cell_type": "markdown",
   "id": "0f7c9fda",
   "metadata": {},
   "source": [
    "### Encode Categorical columns X_train & X_test: "
   ]
  },
  {
   "cell_type": "markdown",
   "id": "8c01dcaf",
   "metadata": {},
   "source": [
    "###### Encode Season Feature Using OneHotEncoder :"
   ]
  },
  {
   "cell_type": "code",
   "execution_count": 2544,
   "id": "dedd795c",
   "metadata": {},
   "outputs": [
    {
     "data": {
      "text/html": [
       "<div>\n",
       "<style scoped>\n",
       "    .dataframe tbody tr th:only-of-type {\n",
       "        vertical-align: middle;\n",
       "    }\n",
       "\n",
       "    .dataframe tbody tr th {\n",
       "        vertical-align: top;\n",
       "    }\n",
       "\n",
       "    .dataframe thead th {\n",
       "        text-align: right;\n",
       "    }\n",
       "</style>\n",
       "<table border=\"1\" class=\"dataframe\">\n",
       "  <thead>\n",
       "    <tr style=\"text-align: right;\">\n",
       "      <th></th>\n",
       "      <th>season</th>\n",
       "      <th>weather</th>\n",
       "      <th>Day</th>\n",
       "      <th>Month</th>\n",
       "      <th>DayPeriod</th>\n",
       "    </tr>\n",
       "  </thead>\n",
       "  <tbody>\n",
       "    <tr>\n",
       "      <th>0</th>\n",
       "      <td>Winter</td>\n",
       "      <td>Clear</td>\n",
       "      <td>Wednesday</td>\n",
       "      <td>December</td>\n",
       "      <td>evening</td>\n",
       "    </tr>\n",
       "    <tr>\n",
       "      <th>1</th>\n",
       "      <td>Winter</td>\n",
       "      <td>Clear</td>\n",
       "      <td>Thursday</td>\n",
       "      <td>November</td>\n",
       "      <td>morning</td>\n",
       "    </tr>\n",
       "    <tr>\n",
       "      <th>2</th>\n",
       "      <td>Summer</td>\n",
       "      <td>Clear</td>\n",
       "      <td>Thursday</td>\n",
       "      <td>April</td>\n",
       "      <td>morning</td>\n",
       "    </tr>\n",
       "    <tr>\n",
       "      <th>3</th>\n",
       "      <td>Spring</td>\n",
       "      <td>Clear</td>\n",
       "      <td>Wednesday</td>\n",
       "      <td>March</td>\n",
       "      <td>evening</td>\n",
       "    </tr>\n",
       "    <tr>\n",
       "      <th>4</th>\n",
       "      <td>Winter</td>\n",
       "      <td>Clear</td>\n",
       "      <td>Saturday</td>\n",
       "      <td>October</td>\n",
       "      <td>evening</td>\n",
       "    </tr>\n",
       "  </tbody>\n",
       "</table>\n",
       "</div>"
      ],
      "text/plain": [
       "   season weather        Day     Month DayPeriod\n",
       "0  Winter   Clear  Wednesday  December   evening\n",
       "1  Winter   Clear   Thursday  November   morning\n",
       "2  Summer   Clear   Thursday     April   morning\n",
       "3  Spring   Clear  Wednesday     March   evening\n",
       "4  Winter   Clear   Saturday   October   evening"
      ]
     },
     "execution_count": 2544,
     "metadata": {},
     "output_type": "execute_result"
    }
   ],
   "source": [
    "x_train_cat.head()"
   ]
  },
  {
   "cell_type": "code",
   "execution_count": 2545,
   "id": "716e1c5d",
   "metadata": {},
   "outputs": [],
   "source": [
    "ohe = OneHotEncoder(sparse = False , drop = 'first')"
   ]
  },
  {
   "cell_type": "code",
   "execution_count": 2546,
   "id": "71f6ded5",
   "metadata": {},
   "outputs": [],
   "source": [
    "x_train_cat = pd.concat([x_train_cat , pd.DataFrame(ohe.fit_transform(x_train_cat[['season']]) ,\n",
    "                                                    columns = ohe.get_feature_names_out())] , axis = 1)"
   ]
  },
  {
   "cell_type": "code",
   "execution_count": 2547,
   "id": "4fbcd515",
   "metadata": {},
   "outputs": [],
   "source": [
    "x_train_cat.drop(['season'] , axis = 1 , inplace = True)"
   ]
  },
  {
   "cell_type": "code",
   "execution_count": 2548,
   "id": "894d44f5",
   "metadata": {},
   "outputs": [
    {
     "data": {
      "text/html": [
       "<div>\n",
       "<style scoped>\n",
       "    .dataframe tbody tr th:only-of-type {\n",
       "        vertical-align: middle;\n",
       "    }\n",
       "\n",
       "    .dataframe tbody tr th {\n",
       "        vertical-align: top;\n",
       "    }\n",
       "\n",
       "    .dataframe thead th {\n",
       "        text-align: right;\n",
       "    }\n",
       "</style>\n",
       "<table border=\"1\" class=\"dataframe\">\n",
       "  <thead>\n",
       "    <tr style=\"text-align: right;\">\n",
       "      <th></th>\n",
       "      <th>weather</th>\n",
       "      <th>Day</th>\n",
       "      <th>Month</th>\n",
       "      <th>DayPeriod</th>\n",
       "      <th>season_Spring</th>\n",
       "      <th>season_Summer</th>\n",
       "      <th>season_Winter</th>\n",
       "    </tr>\n",
       "  </thead>\n",
       "  <tbody>\n",
       "    <tr>\n",
       "      <th>0</th>\n",
       "      <td>Clear</td>\n",
       "      <td>Wednesday</td>\n",
       "      <td>December</td>\n",
       "      <td>evening</td>\n",
       "      <td>0.0</td>\n",
       "      <td>0.0</td>\n",
       "      <td>1.0</td>\n",
       "    </tr>\n",
       "    <tr>\n",
       "      <th>1</th>\n",
       "      <td>Clear</td>\n",
       "      <td>Thursday</td>\n",
       "      <td>November</td>\n",
       "      <td>morning</td>\n",
       "      <td>0.0</td>\n",
       "      <td>0.0</td>\n",
       "      <td>1.0</td>\n",
       "    </tr>\n",
       "    <tr>\n",
       "      <th>2</th>\n",
       "      <td>Clear</td>\n",
       "      <td>Thursday</td>\n",
       "      <td>April</td>\n",
       "      <td>morning</td>\n",
       "      <td>0.0</td>\n",
       "      <td>1.0</td>\n",
       "      <td>0.0</td>\n",
       "    </tr>\n",
       "  </tbody>\n",
       "</table>\n",
       "</div>"
      ],
      "text/plain": [
       "  weather        Day     Month DayPeriod  season_Spring  season_Summer  \\\n",
       "0   Clear  Wednesday  December   evening            0.0            0.0   \n",
       "1   Clear   Thursday  November   morning            0.0            0.0   \n",
       "2   Clear   Thursday     April   morning            0.0            1.0   \n",
       "\n",
       "   season_Winter  \n",
       "0            1.0  \n",
       "1            1.0  \n",
       "2            0.0  "
      ]
     },
     "execution_count": 2548,
     "metadata": {},
     "output_type": "execute_result"
    }
   ],
   "source": [
    "x_train_cat.head(3)"
   ]
  },
  {
   "cell_type": "code",
   "execution_count": 2549,
   "id": "061b74e6",
   "metadata": {},
   "outputs": [],
   "source": [
    "ohe = OneHotEncoder(sparse = False , drop = 'first')"
   ]
  },
  {
   "cell_type": "code",
   "execution_count": 2550,
   "id": "b77c22f5",
   "metadata": {},
   "outputs": [],
   "source": [
    "x_test_cat = pd.concat([x_test_cat , pd.DataFrame(ohe.fit_transform(x_test_cat[['season']]) \n",
    "                                                  , columns = ohe.get_feature_names_out())] , axis = 1)"
   ]
  },
  {
   "cell_type": "code",
   "execution_count": 2551,
   "id": "de1c403e",
   "metadata": {},
   "outputs": [],
   "source": [
    "x_test_cat.drop(['season'] , axis = 1 , inplace = True)"
   ]
  },
  {
   "cell_type": "code",
   "execution_count": 2552,
   "id": "2f680c5b",
   "metadata": {},
   "outputs": [
    {
     "data": {
      "text/html": [
       "<div>\n",
       "<style scoped>\n",
       "    .dataframe tbody tr th:only-of-type {\n",
       "        vertical-align: middle;\n",
       "    }\n",
       "\n",
       "    .dataframe tbody tr th {\n",
       "        vertical-align: top;\n",
       "    }\n",
       "\n",
       "    .dataframe thead th {\n",
       "        text-align: right;\n",
       "    }\n",
       "</style>\n",
       "<table border=\"1\" class=\"dataframe\">\n",
       "  <thead>\n",
       "    <tr style=\"text-align: right;\">\n",
       "      <th></th>\n",
       "      <th>weather</th>\n",
       "      <th>Day</th>\n",
       "      <th>Month</th>\n",
       "      <th>DayPeriod</th>\n",
       "      <th>season_Spring</th>\n",
       "      <th>season_Summer</th>\n",
       "      <th>season_Winter</th>\n",
       "    </tr>\n",
       "  </thead>\n",
       "  <tbody>\n",
       "    <tr>\n",
       "      <th>0</th>\n",
       "      <td>Clear</td>\n",
       "      <td>Monday</td>\n",
       "      <td>August</td>\n",
       "      <td>evening</td>\n",
       "      <td>0.0</td>\n",
       "      <td>0.0</td>\n",
       "      <td>0.0</td>\n",
       "    </tr>\n",
       "    <tr>\n",
       "      <th>1</th>\n",
       "      <td>Clear</td>\n",
       "      <td>Tuesday</td>\n",
       "      <td>March</td>\n",
       "      <td>morning</td>\n",
       "      <td>1.0</td>\n",
       "      <td>0.0</td>\n",
       "      <td>0.0</td>\n",
       "    </tr>\n",
       "    <tr>\n",
       "      <th>2</th>\n",
       "      <td>Clear</td>\n",
       "      <td>Monday</td>\n",
       "      <td>August</td>\n",
       "      <td>evening</td>\n",
       "      <td>0.0</td>\n",
       "      <td>0.0</td>\n",
       "      <td>0.0</td>\n",
       "    </tr>\n",
       "  </tbody>\n",
       "</table>\n",
       "</div>"
      ],
      "text/plain": [
       "  weather      Day   Month DayPeriod  season_Spring  season_Summer  \\\n",
       "0   Clear   Monday  August   evening            0.0            0.0   \n",
       "1   Clear  Tuesday   March   morning            1.0            0.0   \n",
       "2   Clear   Monday  August   evening            0.0            0.0   \n",
       "\n",
       "   season_Winter  \n",
       "0            0.0  \n",
       "1            0.0  \n",
       "2            0.0  "
      ]
     },
     "execution_count": 2552,
     "metadata": {},
     "output_type": "execute_result"
    }
   ],
   "source": [
    "x_test_cat.head(3)"
   ]
  },
  {
   "cell_type": "markdown",
   "id": "c5696880",
   "metadata": {},
   "source": [
    "###### Encode weather Feature using OneHotEncoder :"
   ]
  },
  {
   "cell_type": "code",
   "execution_count": 2553,
   "id": "5eddd3cd",
   "metadata": {},
   "outputs": [
    {
     "data": {
      "text/plain": [
       "array(['Clear', 'Mist', 'Rainy', 'Snowy'], dtype=object)"
      ]
     },
     "execution_count": 2553,
     "metadata": {},
     "output_type": "execute_result"
    }
   ],
   "source": [
    "x_train_cat['weather'].unique()"
   ]
  },
  {
   "cell_type": "code",
   "execution_count": 2554,
   "id": "33b68569",
   "metadata": {},
   "outputs": [],
   "source": [
    "one = OneHotEncoder(sparse = False , drop = 'first')"
   ]
  },
  {
   "cell_type": "code",
   "execution_count": 2555,
   "id": "4dbcf09e",
   "metadata": {},
   "outputs": [],
   "source": [
    "x_train_cat = pd.concat([x_train_cat , pd.DataFrame( ohe.fit_transform(x_train_cat[['weather']]) \n",
    "                                                    , columns = ohe.get_feature_names_out())] , axis = 1)"
   ]
  },
  {
   "cell_type": "code",
   "execution_count": 2556,
   "id": "f8fcd0e5",
   "metadata": {},
   "outputs": [],
   "source": [
    "x_train_cat.drop(['weather'] , axis = 1 , inplace = True)"
   ]
  },
  {
   "cell_type": "code",
   "execution_count": 2557,
   "id": "7e24fb60",
   "metadata": {},
   "outputs": [
    {
     "data": {
      "text/html": [
       "<div>\n",
       "<style scoped>\n",
       "    .dataframe tbody tr th:only-of-type {\n",
       "        vertical-align: middle;\n",
       "    }\n",
       "\n",
       "    .dataframe tbody tr th {\n",
       "        vertical-align: top;\n",
       "    }\n",
       "\n",
       "    .dataframe thead th {\n",
       "        text-align: right;\n",
       "    }\n",
       "</style>\n",
       "<table border=\"1\" class=\"dataframe\">\n",
       "  <thead>\n",
       "    <tr style=\"text-align: right;\">\n",
       "      <th></th>\n",
       "      <th>Day</th>\n",
       "      <th>Month</th>\n",
       "      <th>DayPeriod</th>\n",
       "      <th>season_Spring</th>\n",
       "      <th>season_Summer</th>\n",
       "      <th>season_Winter</th>\n",
       "      <th>weather_Mist</th>\n",
       "      <th>weather_Rainy</th>\n",
       "      <th>weather_Snowy</th>\n",
       "    </tr>\n",
       "  </thead>\n",
       "  <tbody>\n",
       "    <tr>\n",
       "      <th>0</th>\n",
       "      <td>Wednesday</td>\n",
       "      <td>December</td>\n",
       "      <td>evening</td>\n",
       "      <td>0.0</td>\n",
       "      <td>0.0</td>\n",
       "      <td>1.0</td>\n",
       "      <td>0.0</td>\n",
       "      <td>0.0</td>\n",
       "      <td>0.0</td>\n",
       "    </tr>\n",
       "    <tr>\n",
       "      <th>1</th>\n",
       "      <td>Thursday</td>\n",
       "      <td>November</td>\n",
       "      <td>morning</td>\n",
       "      <td>0.0</td>\n",
       "      <td>0.0</td>\n",
       "      <td>1.0</td>\n",
       "      <td>0.0</td>\n",
       "      <td>0.0</td>\n",
       "      <td>0.0</td>\n",
       "    </tr>\n",
       "  </tbody>\n",
       "</table>\n",
       "</div>"
      ],
      "text/plain": [
       "         Day     Month DayPeriod  season_Spring  season_Summer  season_Winter  \\\n",
       "0  Wednesday  December   evening            0.0            0.0            1.0   \n",
       "1   Thursday  November   morning            0.0            0.0            1.0   \n",
       "\n",
       "   weather_Mist  weather_Rainy  weather_Snowy  \n",
       "0           0.0            0.0            0.0  \n",
       "1           0.0            0.0            0.0  "
      ]
     },
     "execution_count": 2557,
     "metadata": {},
     "output_type": "execute_result"
    }
   ],
   "source": [
    "x_train_cat.head(2)"
   ]
  },
  {
   "cell_type": "code",
   "execution_count": 2558,
   "id": "d11c66b0",
   "metadata": {},
   "outputs": [],
   "source": [
    "ohe = OneHotEncoder(sparse = False , drop = 'first')"
   ]
  },
  {
   "cell_type": "code",
   "execution_count": 2559,
   "id": "2cd45a02",
   "metadata": {},
   "outputs": [],
   "source": [
    "x_test_cat = pd.concat([x_test_cat , pd.DataFrame( ohe.fit_transform(x_test_cat[['weather']]) ,\n",
    "                                                  columns = ohe.get_feature_names_out() )] , axis = 1)"
   ]
  },
  {
   "cell_type": "code",
   "execution_count": 2560,
   "id": "e514e0ce",
   "metadata": {},
   "outputs": [],
   "source": [
    "x_test_cat.drop(['weather'] , axis = 1 , inplace = True)"
   ]
  },
  {
   "cell_type": "code",
   "execution_count": 2561,
   "id": "a47fb38f",
   "metadata": {
    "scrolled": true
   },
   "outputs": [
    {
     "data": {
      "text/html": [
       "<div>\n",
       "<style scoped>\n",
       "    .dataframe tbody tr th:only-of-type {\n",
       "        vertical-align: middle;\n",
       "    }\n",
       "\n",
       "    .dataframe tbody tr th {\n",
       "        vertical-align: top;\n",
       "    }\n",
       "\n",
       "    .dataframe thead th {\n",
       "        text-align: right;\n",
       "    }\n",
       "</style>\n",
       "<table border=\"1\" class=\"dataframe\">\n",
       "  <thead>\n",
       "    <tr style=\"text-align: right;\">\n",
       "      <th></th>\n",
       "      <th>Day</th>\n",
       "      <th>Month</th>\n",
       "      <th>DayPeriod</th>\n",
       "      <th>season_Spring</th>\n",
       "      <th>season_Summer</th>\n",
       "      <th>season_Winter</th>\n",
       "      <th>weather_Mist</th>\n",
       "      <th>weather_Rainy</th>\n",
       "    </tr>\n",
       "  </thead>\n",
       "  <tbody>\n",
       "    <tr>\n",
       "      <th>0</th>\n",
       "      <td>Monday</td>\n",
       "      <td>August</td>\n",
       "      <td>evening</td>\n",
       "      <td>0.0</td>\n",
       "      <td>0.0</td>\n",
       "      <td>0.0</td>\n",
       "      <td>0.0</td>\n",
       "      <td>0.0</td>\n",
       "    </tr>\n",
       "    <tr>\n",
       "      <th>1</th>\n",
       "      <td>Tuesday</td>\n",
       "      <td>March</td>\n",
       "      <td>morning</td>\n",
       "      <td>1.0</td>\n",
       "      <td>0.0</td>\n",
       "      <td>0.0</td>\n",
       "      <td>0.0</td>\n",
       "      <td>0.0</td>\n",
       "    </tr>\n",
       "    <tr>\n",
       "      <th>2</th>\n",
       "      <td>Monday</td>\n",
       "      <td>August</td>\n",
       "      <td>evening</td>\n",
       "      <td>0.0</td>\n",
       "      <td>0.0</td>\n",
       "      <td>0.0</td>\n",
       "      <td>0.0</td>\n",
       "      <td>0.0</td>\n",
       "    </tr>\n",
       "  </tbody>\n",
       "</table>\n",
       "</div>"
      ],
      "text/plain": [
       "       Day   Month DayPeriod  season_Spring  season_Summer  season_Winter  \\\n",
       "0   Monday  August   evening            0.0            0.0            0.0   \n",
       "1  Tuesday   March   morning            1.0            0.0            0.0   \n",
       "2   Monday  August   evening            0.0            0.0            0.0   \n",
       "\n",
       "   weather_Mist  weather_Rainy  \n",
       "0           0.0            0.0  \n",
       "1           0.0            0.0  \n",
       "2           0.0            0.0  "
      ]
     },
     "execution_count": 2561,
     "metadata": {},
     "output_type": "execute_result"
    }
   ],
   "source": [
    "x_test_cat.head(3)"
   ]
  },
  {
   "cell_type": "markdown",
   "id": "a43b1ee8",
   "metadata": {},
   "source": [
    "###### Encode Day Feature using Binary Encoder : "
   ]
  },
  {
   "cell_type": "code",
   "execution_count": 2562,
   "id": "07438b53",
   "metadata": {},
   "outputs": [],
   "source": [
    "be = BinaryEncoder()"
   ]
  },
  {
   "cell_type": "code",
   "execution_count": 2563,
   "id": "373551ef",
   "metadata": {},
   "outputs": [],
   "source": [
    "x_train_cat = pd.concat([x_train_cat , be.fit_transform(x_train_cat[['Day']])] , axis = 1)"
   ]
  },
  {
   "cell_type": "code",
   "execution_count": 2564,
   "id": "5ebd0aa1",
   "metadata": {},
   "outputs": [],
   "source": [
    "x_train_cat.drop(['Day'] , inplace = True , axis = 1)"
   ]
  },
  {
   "cell_type": "code",
   "execution_count": 2565,
   "id": "479bbc9a",
   "metadata": {},
   "outputs": [
    {
     "data": {
      "text/html": [
       "<div>\n",
       "<style scoped>\n",
       "    .dataframe tbody tr th:only-of-type {\n",
       "        vertical-align: middle;\n",
       "    }\n",
       "\n",
       "    .dataframe tbody tr th {\n",
       "        vertical-align: top;\n",
       "    }\n",
       "\n",
       "    .dataframe thead th {\n",
       "        text-align: right;\n",
       "    }\n",
       "</style>\n",
       "<table border=\"1\" class=\"dataframe\">\n",
       "  <thead>\n",
       "    <tr style=\"text-align: right;\">\n",
       "      <th></th>\n",
       "      <th>Month</th>\n",
       "      <th>DayPeriod</th>\n",
       "      <th>season_Spring</th>\n",
       "      <th>season_Summer</th>\n",
       "      <th>season_Winter</th>\n",
       "      <th>weather_Mist</th>\n",
       "      <th>weather_Rainy</th>\n",
       "      <th>weather_Snowy</th>\n",
       "      <th>Day_0</th>\n",
       "      <th>Day_1</th>\n",
       "      <th>Day_2</th>\n",
       "    </tr>\n",
       "  </thead>\n",
       "  <tbody>\n",
       "    <tr>\n",
       "      <th>0</th>\n",
       "      <td>December</td>\n",
       "      <td>evening</td>\n",
       "      <td>0.0</td>\n",
       "      <td>0.0</td>\n",
       "      <td>1.0</td>\n",
       "      <td>0.0</td>\n",
       "      <td>0.0</td>\n",
       "      <td>0.0</td>\n",
       "      <td>0</td>\n",
       "      <td>0</td>\n",
       "      <td>1</td>\n",
       "    </tr>\n",
       "    <tr>\n",
       "      <th>1</th>\n",
       "      <td>November</td>\n",
       "      <td>morning</td>\n",
       "      <td>0.0</td>\n",
       "      <td>0.0</td>\n",
       "      <td>1.0</td>\n",
       "      <td>0.0</td>\n",
       "      <td>0.0</td>\n",
       "      <td>0.0</td>\n",
       "      <td>0</td>\n",
       "      <td>1</td>\n",
       "      <td>0</td>\n",
       "    </tr>\n",
       "    <tr>\n",
       "      <th>2</th>\n",
       "      <td>April</td>\n",
       "      <td>morning</td>\n",
       "      <td>0.0</td>\n",
       "      <td>1.0</td>\n",
       "      <td>0.0</td>\n",
       "      <td>0.0</td>\n",
       "      <td>0.0</td>\n",
       "      <td>0.0</td>\n",
       "      <td>0</td>\n",
       "      <td>1</td>\n",
       "      <td>0</td>\n",
       "    </tr>\n",
       "  </tbody>\n",
       "</table>\n",
       "</div>"
      ],
      "text/plain": [
       "      Month DayPeriod  season_Spring  season_Summer  season_Winter  \\\n",
       "0  December   evening            0.0            0.0            1.0   \n",
       "1  November   morning            0.0            0.0            1.0   \n",
       "2     April   morning            0.0            1.0            0.0   \n",
       "\n",
       "   weather_Mist  weather_Rainy  weather_Snowy  Day_0  Day_1  Day_2  \n",
       "0           0.0            0.0            0.0      0      0      1  \n",
       "1           0.0            0.0            0.0      0      1      0  \n",
       "2           0.0            0.0            0.0      0      1      0  "
      ]
     },
     "execution_count": 2565,
     "metadata": {},
     "output_type": "execute_result"
    }
   ],
   "source": [
    "x_train_cat.head(3)"
   ]
  },
  {
   "cell_type": "code",
   "execution_count": 2566,
   "id": "de06802d",
   "metadata": {},
   "outputs": [],
   "source": [
    "be = BinaryEncoder()"
   ]
  },
  {
   "cell_type": "code",
   "execution_count": 2567,
   "id": "b31634de",
   "metadata": {},
   "outputs": [],
   "source": [
    "x_test_cat = pd.concat([x_test_cat , be.fit_transform(x_test_cat[['Day']])] , axis = 1)"
   ]
  },
  {
   "cell_type": "code",
   "execution_count": 2568,
   "id": "190fa887",
   "metadata": {},
   "outputs": [],
   "source": [
    "x_test_cat.drop(['Day'] , inplace = True , axis = 1)"
   ]
  },
  {
   "cell_type": "code",
   "execution_count": 2569,
   "id": "45b49d0b",
   "metadata": {},
   "outputs": [
    {
     "data": {
      "text/html": [
       "<div>\n",
       "<style scoped>\n",
       "    .dataframe tbody tr th:only-of-type {\n",
       "        vertical-align: middle;\n",
       "    }\n",
       "\n",
       "    .dataframe tbody tr th {\n",
       "        vertical-align: top;\n",
       "    }\n",
       "\n",
       "    .dataframe thead th {\n",
       "        text-align: right;\n",
       "    }\n",
       "</style>\n",
       "<table border=\"1\" class=\"dataframe\">\n",
       "  <thead>\n",
       "    <tr style=\"text-align: right;\">\n",
       "      <th></th>\n",
       "      <th>Month</th>\n",
       "      <th>DayPeriod</th>\n",
       "      <th>season_Spring</th>\n",
       "      <th>season_Summer</th>\n",
       "      <th>season_Winter</th>\n",
       "      <th>weather_Mist</th>\n",
       "      <th>weather_Rainy</th>\n",
       "      <th>Day_0</th>\n",
       "      <th>Day_1</th>\n",
       "      <th>Day_2</th>\n",
       "    </tr>\n",
       "  </thead>\n",
       "  <tbody>\n",
       "    <tr>\n",
       "      <th>0</th>\n",
       "      <td>August</td>\n",
       "      <td>evening</td>\n",
       "      <td>0.0</td>\n",
       "      <td>0.0</td>\n",
       "      <td>0.0</td>\n",
       "      <td>0.0</td>\n",
       "      <td>0.0</td>\n",
       "      <td>0</td>\n",
       "      <td>0</td>\n",
       "      <td>1</td>\n",
       "    </tr>\n",
       "    <tr>\n",
       "      <th>1</th>\n",
       "      <td>March</td>\n",
       "      <td>morning</td>\n",
       "      <td>1.0</td>\n",
       "      <td>0.0</td>\n",
       "      <td>0.0</td>\n",
       "      <td>0.0</td>\n",
       "      <td>0.0</td>\n",
       "      <td>0</td>\n",
       "      <td>1</td>\n",
       "      <td>0</td>\n",
       "    </tr>\n",
       "    <tr>\n",
       "      <th>2</th>\n",
       "      <td>August</td>\n",
       "      <td>evening</td>\n",
       "      <td>0.0</td>\n",
       "      <td>0.0</td>\n",
       "      <td>0.0</td>\n",
       "      <td>0.0</td>\n",
       "      <td>0.0</td>\n",
       "      <td>0</td>\n",
       "      <td>0</td>\n",
       "      <td>1</td>\n",
       "    </tr>\n",
       "  </tbody>\n",
       "</table>\n",
       "</div>"
      ],
      "text/plain": [
       "    Month DayPeriod  season_Spring  season_Summer  season_Winter  \\\n",
       "0  August   evening            0.0            0.0            0.0   \n",
       "1   March   morning            1.0            0.0            0.0   \n",
       "2  August   evening            0.0            0.0            0.0   \n",
       "\n",
       "   weather_Mist  weather_Rainy  Day_0  Day_1  Day_2  \n",
       "0           0.0            0.0      0      0      1  \n",
       "1           0.0            0.0      0      1      0  \n",
       "2           0.0            0.0      0      0      1  "
      ]
     },
     "execution_count": 2569,
     "metadata": {},
     "output_type": "execute_result"
    }
   ],
   "source": [
    "x_test_cat.head(3)"
   ]
  },
  {
   "cell_type": "markdown",
   "id": "ef38b875",
   "metadata": {},
   "source": [
    "###### Encode Month using Binary Encoder : "
   ]
  },
  {
   "cell_type": "code",
   "execution_count": 2570,
   "id": "8979c8b5",
   "metadata": {},
   "outputs": [
    {
     "data": {
      "text/plain": [
       "12"
      ]
     },
     "execution_count": 2570,
     "metadata": {},
     "output_type": "execute_result"
    }
   ],
   "source": [
    "x_train_cat['Month'].nunique()"
   ]
  },
  {
   "cell_type": "code",
   "execution_count": 2571,
   "id": "8225a179",
   "metadata": {},
   "outputs": [],
   "source": [
    "be = BinaryEncoder()"
   ]
  },
  {
   "cell_type": "code",
   "execution_count": 2572,
   "id": "e6be1f6f",
   "metadata": {},
   "outputs": [],
   "source": [
    "x_train_cat = pd.concat([x_train_cat , be.fit_transform(x_train_cat[['Month']])] , axis = 1)"
   ]
  },
  {
   "cell_type": "code",
   "execution_count": 2573,
   "id": "36192c62",
   "metadata": {},
   "outputs": [],
   "source": [
    "x_train_cat.drop(['Month'] , axis = 1 , inplace = True)"
   ]
  },
  {
   "cell_type": "code",
   "execution_count": 2574,
   "id": "97afbbb8",
   "metadata": {},
   "outputs": [
    {
     "data": {
      "text/html": [
       "<div>\n",
       "<style scoped>\n",
       "    .dataframe tbody tr th:only-of-type {\n",
       "        vertical-align: middle;\n",
       "    }\n",
       "\n",
       "    .dataframe tbody tr th {\n",
       "        vertical-align: top;\n",
       "    }\n",
       "\n",
       "    .dataframe thead th {\n",
       "        text-align: right;\n",
       "    }\n",
       "</style>\n",
       "<table border=\"1\" class=\"dataframe\">\n",
       "  <thead>\n",
       "    <tr style=\"text-align: right;\">\n",
       "      <th></th>\n",
       "      <th>DayPeriod</th>\n",
       "      <th>season_Spring</th>\n",
       "      <th>season_Summer</th>\n",
       "      <th>season_Winter</th>\n",
       "      <th>weather_Mist</th>\n",
       "      <th>weather_Rainy</th>\n",
       "      <th>weather_Snowy</th>\n",
       "      <th>Day_0</th>\n",
       "      <th>Day_1</th>\n",
       "      <th>Day_2</th>\n",
       "      <th>Month_0</th>\n",
       "      <th>Month_1</th>\n",
       "      <th>Month_2</th>\n",
       "      <th>Month_3</th>\n",
       "    </tr>\n",
       "  </thead>\n",
       "  <tbody>\n",
       "    <tr>\n",
       "      <th>0</th>\n",
       "      <td>evening</td>\n",
       "      <td>0.0</td>\n",
       "      <td>0.0</td>\n",
       "      <td>1.0</td>\n",
       "      <td>0.0</td>\n",
       "      <td>0.0</td>\n",
       "      <td>0.0</td>\n",
       "      <td>0</td>\n",
       "      <td>0</td>\n",
       "      <td>1</td>\n",
       "      <td>0</td>\n",
       "      <td>0</td>\n",
       "      <td>0</td>\n",
       "      <td>1</td>\n",
       "    </tr>\n",
       "    <tr>\n",
       "      <th>1</th>\n",
       "      <td>morning</td>\n",
       "      <td>0.0</td>\n",
       "      <td>0.0</td>\n",
       "      <td>1.0</td>\n",
       "      <td>0.0</td>\n",
       "      <td>0.0</td>\n",
       "      <td>0.0</td>\n",
       "      <td>0</td>\n",
       "      <td>1</td>\n",
       "      <td>0</td>\n",
       "      <td>0</td>\n",
       "      <td>0</td>\n",
       "      <td>1</td>\n",
       "      <td>0</td>\n",
       "    </tr>\n",
       "    <tr>\n",
       "      <th>2</th>\n",
       "      <td>morning</td>\n",
       "      <td>0.0</td>\n",
       "      <td>1.0</td>\n",
       "      <td>0.0</td>\n",
       "      <td>0.0</td>\n",
       "      <td>0.0</td>\n",
       "      <td>0.0</td>\n",
       "      <td>0</td>\n",
       "      <td>1</td>\n",
       "      <td>0</td>\n",
       "      <td>0</td>\n",
       "      <td>0</td>\n",
       "      <td>1</td>\n",
       "      <td>1</td>\n",
       "    </tr>\n",
       "  </tbody>\n",
       "</table>\n",
       "</div>"
      ],
      "text/plain": [
       "  DayPeriod  season_Spring  season_Summer  season_Winter  weather_Mist  \\\n",
       "0   evening            0.0            0.0            1.0           0.0   \n",
       "1   morning            0.0            0.0            1.0           0.0   \n",
       "2   morning            0.0            1.0            0.0           0.0   \n",
       "\n",
       "   weather_Rainy  weather_Snowy  Day_0  Day_1  Day_2  Month_0  Month_1  \\\n",
       "0            0.0            0.0      0      0      1        0        0   \n",
       "1            0.0            0.0      0      1      0        0        0   \n",
       "2            0.0            0.0      0      1      0        0        0   \n",
       "\n",
       "   Month_2  Month_3  \n",
       "0        0        1  \n",
       "1        1        0  \n",
       "2        1        1  "
      ]
     },
     "execution_count": 2574,
     "metadata": {},
     "output_type": "execute_result"
    }
   ],
   "source": [
    "x_train_cat.head(3)"
   ]
  },
  {
   "cell_type": "code",
   "execution_count": 2575,
   "id": "5a301e4e",
   "metadata": {},
   "outputs": [],
   "source": [
    "be = BinaryEncoder()"
   ]
  },
  {
   "cell_type": "code",
   "execution_count": 2576,
   "id": "7a76f907",
   "metadata": {},
   "outputs": [],
   "source": [
    "x_test_cat = pd.concat([x_test_cat , be.fit_transform(x_test_cat[['Month']])] , axis = 1)"
   ]
  },
  {
   "cell_type": "code",
   "execution_count": 2577,
   "id": "d08ab7b3",
   "metadata": {},
   "outputs": [],
   "source": [
    "x_test_cat.drop(['Month'] , axis = 1 , inplace = True)"
   ]
  },
  {
   "cell_type": "code",
   "execution_count": 2578,
   "id": "7272fdff",
   "metadata": {},
   "outputs": [
    {
     "data": {
      "text/html": [
       "<div>\n",
       "<style scoped>\n",
       "    .dataframe tbody tr th:only-of-type {\n",
       "        vertical-align: middle;\n",
       "    }\n",
       "\n",
       "    .dataframe tbody tr th {\n",
       "        vertical-align: top;\n",
       "    }\n",
       "\n",
       "    .dataframe thead th {\n",
       "        text-align: right;\n",
       "    }\n",
       "</style>\n",
       "<table border=\"1\" class=\"dataframe\">\n",
       "  <thead>\n",
       "    <tr style=\"text-align: right;\">\n",
       "      <th></th>\n",
       "      <th>DayPeriod</th>\n",
       "      <th>season_Spring</th>\n",
       "      <th>season_Summer</th>\n",
       "      <th>season_Winter</th>\n",
       "      <th>weather_Mist</th>\n",
       "      <th>weather_Rainy</th>\n",
       "      <th>Day_0</th>\n",
       "      <th>Day_1</th>\n",
       "      <th>Day_2</th>\n",
       "      <th>Month_0</th>\n",
       "      <th>Month_1</th>\n",
       "      <th>Month_2</th>\n",
       "      <th>Month_3</th>\n",
       "    </tr>\n",
       "  </thead>\n",
       "  <tbody>\n",
       "    <tr>\n",
       "      <th>0</th>\n",
       "      <td>evening</td>\n",
       "      <td>0.0</td>\n",
       "      <td>0.0</td>\n",
       "      <td>0.0</td>\n",
       "      <td>0.0</td>\n",
       "      <td>0.0</td>\n",
       "      <td>0</td>\n",
       "      <td>0</td>\n",
       "      <td>1</td>\n",
       "      <td>0</td>\n",
       "      <td>0</td>\n",
       "      <td>0</td>\n",
       "      <td>1</td>\n",
       "    </tr>\n",
       "    <tr>\n",
       "      <th>1</th>\n",
       "      <td>morning</td>\n",
       "      <td>1.0</td>\n",
       "      <td>0.0</td>\n",
       "      <td>0.0</td>\n",
       "      <td>0.0</td>\n",
       "      <td>0.0</td>\n",
       "      <td>0</td>\n",
       "      <td>1</td>\n",
       "      <td>0</td>\n",
       "      <td>0</td>\n",
       "      <td>0</td>\n",
       "      <td>1</td>\n",
       "      <td>0</td>\n",
       "    </tr>\n",
       "    <tr>\n",
       "      <th>2</th>\n",
       "      <td>evening</td>\n",
       "      <td>0.0</td>\n",
       "      <td>0.0</td>\n",
       "      <td>0.0</td>\n",
       "      <td>0.0</td>\n",
       "      <td>0.0</td>\n",
       "      <td>0</td>\n",
       "      <td>0</td>\n",
       "      <td>1</td>\n",
       "      <td>0</td>\n",
       "      <td>0</td>\n",
       "      <td>0</td>\n",
       "      <td>1</td>\n",
       "    </tr>\n",
       "  </tbody>\n",
       "</table>\n",
       "</div>"
      ],
      "text/plain": [
       "  DayPeriod  season_Spring  season_Summer  season_Winter  weather_Mist  \\\n",
       "0   evening            0.0            0.0            0.0           0.0   \n",
       "1   morning            1.0            0.0            0.0           0.0   \n",
       "2   evening            0.0            0.0            0.0           0.0   \n",
       "\n",
       "   weather_Rainy  Day_0  Day_1  Day_2  Month_0  Month_1  Month_2  Month_3  \n",
       "0            0.0      0      0      1        0        0        0        1  \n",
       "1            0.0      0      1      0        0        0        1        0  \n",
       "2            0.0      0      0      1        0        0        0        1  "
      ]
     },
     "execution_count": 2578,
     "metadata": {},
     "output_type": "execute_result"
    }
   ],
   "source": [
    "x_test_cat.head(3)"
   ]
  },
  {
   "cell_type": "markdown",
   "id": "7c10a29f",
   "metadata": {},
   "source": [
    "###### Encode DayPeriod Feature using OneHotEncoder :"
   ]
  },
  {
   "cell_type": "code",
   "execution_count": 2579,
   "id": "efcab2b6",
   "metadata": {},
   "outputs": [],
   "source": [
    "ohe = OneHotEncoder(sparse = False , drop = 'first')"
   ]
  },
  {
   "cell_type": "code",
   "execution_count": 2580,
   "id": "cb918c36",
   "metadata": {},
   "outputs": [],
   "source": [
    "x_train_cat = pd.concat([x_train_cat , pd.DataFrame(ohe.fit_transform(x_train_cat[['DayPeriod']]) , \n",
    "                                     columns = ohe.get_feature_names_out())] , axis = 1)"
   ]
  },
  {
   "cell_type": "code",
   "execution_count": 2581,
   "id": "b2fe2e74",
   "metadata": {},
   "outputs": [],
   "source": [
    "x_train_cat.drop(['DayPeriod'] , inplace = True , axis = 1 )"
   ]
  },
  {
   "cell_type": "code",
   "execution_count": 2582,
   "id": "d307cb78",
   "metadata": {},
   "outputs": [
    {
     "data": {
      "text/html": [
       "<div>\n",
       "<style scoped>\n",
       "    .dataframe tbody tr th:only-of-type {\n",
       "        vertical-align: middle;\n",
       "    }\n",
       "\n",
       "    .dataframe tbody tr th {\n",
       "        vertical-align: top;\n",
       "    }\n",
       "\n",
       "    .dataframe thead th {\n",
       "        text-align: right;\n",
       "    }\n",
       "</style>\n",
       "<table border=\"1\" class=\"dataframe\">\n",
       "  <thead>\n",
       "    <tr style=\"text-align: right;\">\n",
       "      <th></th>\n",
       "      <th>season_Spring</th>\n",
       "      <th>season_Summer</th>\n",
       "      <th>season_Winter</th>\n",
       "      <th>weather_Mist</th>\n",
       "      <th>weather_Rainy</th>\n",
       "      <th>weather_Snowy</th>\n",
       "      <th>Day_0</th>\n",
       "      <th>Day_1</th>\n",
       "      <th>Day_2</th>\n",
       "      <th>Month_0</th>\n",
       "      <th>Month_1</th>\n",
       "      <th>Month_2</th>\n",
       "      <th>Month_3</th>\n",
       "      <th>DayPeriod_evening</th>\n",
       "      <th>DayPeriod_morning</th>\n",
       "    </tr>\n",
       "  </thead>\n",
       "  <tbody>\n",
       "    <tr>\n",
       "      <th>0</th>\n",
       "      <td>0.0</td>\n",
       "      <td>0.0</td>\n",
       "      <td>1.0</td>\n",
       "      <td>0.0</td>\n",
       "      <td>0.0</td>\n",
       "      <td>0.0</td>\n",
       "      <td>0</td>\n",
       "      <td>0</td>\n",
       "      <td>1</td>\n",
       "      <td>0</td>\n",
       "      <td>0</td>\n",
       "      <td>0</td>\n",
       "      <td>1</td>\n",
       "      <td>1.0</td>\n",
       "      <td>0.0</td>\n",
       "    </tr>\n",
       "    <tr>\n",
       "      <th>1</th>\n",
       "      <td>0.0</td>\n",
       "      <td>0.0</td>\n",
       "      <td>1.0</td>\n",
       "      <td>0.0</td>\n",
       "      <td>0.0</td>\n",
       "      <td>0.0</td>\n",
       "      <td>0</td>\n",
       "      <td>1</td>\n",
       "      <td>0</td>\n",
       "      <td>0</td>\n",
       "      <td>0</td>\n",
       "      <td>1</td>\n",
       "      <td>0</td>\n",
       "      <td>0.0</td>\n",
       "      <td>1.0</td>\n",
       "    </tr>\n",
       "    <tr>\n",
       "      <th>2</th>\n",
       "      <td>0.0</td>\n",
       "      <td>1.0</td>\n",
       "      <td>0.0</td>\n",
       "      <td>0.0</td>\n",
       "      <td>0.0</td>\n",
       "      <td>0.0</td>\n",
       "      <td>0</td>\n",
       "      <td>1</td>\n",
       "      <td>0</td>\n",
       "      <td>0</td>\n",
       "      <td>0</td>\n",
       "      <td>1</td>\n",
       "      <td>1</td>\n",
       "      <td>0.0</td>\n",
       "      <td>1.0</td>\n",
       "    </tr>\n",
       "  </tbody>\n",
       "</table>\n",
       "</div>"
      ],
      "text/plain": [
       "   season_Spring  season_Summer  season_Winter  weather_Mist  weather_Rainy  \\\n",
       "0            0.0            0.0            1.0           0.0            0.0   \n",
       "1            0.0            0.0            1.0           0.0            0.0   \n",
       "2            0.0            1.0            0.0           0.0            0.0   \n",
       "\n",
       "   weather_Snowy  Day_0  Day_1  Day_2  Month_0  Month_1  Month_2  Month_3  \\\n",
       "0            0.0      0      0      1        0        0        0        1   \n",
       "1            0.0      0      1      0        0        0        1        0   \n",
       "2            0.0      0      1      0        0        0        1        1   \n",
       "\n",
       "   DayPeriod_evening  DayPeriod_morning  \n",
       "0                1.0                0.0  \n",
       "1                0.0                1.0  \n",
       "2                0.0                1.0  "
      ]
     },
     "execution_count": 2582,
     "metadata": {},
     "output_type": "execute_result"
    }
   ],
   "source": [
    "x_train_cat.head(3)"
   ]
  },
  {
   "cell_type": "code",
   "execution_count": 2583,
   "id": "a16a24bc",
   "metadata": {},
   "outputs": [],
   "source": [
    "ohe = OneHotEncoder(sparse = False , drop = 'first')"
   ]
  },
  {
   "cell_type": "code",
   "execution_count": 2584,
   "id": "1ac5a245",
   "metadata": {},
   "outputs": [],
   "source": [
    "x_test_cat = pd.concat([x_test_cat , pd.DataFrame(ohe.fit_transform(x_test_cat[['DayPeriod']]) , \n",
    "                                     columns = ohe.get_feature_names_out())] , axis = 1)"
   ]
  },
  {
   "cell_type": "code",
   "execution_count": 2585,
   "id": "bb065b94",
   "metadata": {},
   "outputs": [],
   "source": [
    "x_test_cat.drop(['DayPeriod'] , inplace = True , axis = 1 )"
   ]
  },
  {
   "cell_type": "code",
   "execution_count": 2586,
   "id": "76640693",
   "metadata": {},
   "outputs": [
    {
     "data": {
      "text/html": [
       "<div>\n",
       "<style scoped>\n",
       "    .dataframe tbody tr th:only-of-type {\n",
       "        vertical-align: middle;\n",
       "    }\n",
       "\n",
       "    .dataframe tbody tr th {\n",
       "        vertical-align: top;\n",
       "    }\n",
       "\n",
       "    .dataframe thead th {\n",
       "        text-align: right;\n",
       "    }\n",
       "</style>\n",
       "<table border=\"1\" class=\"dataframe\">\n",
       "  <thead>\n",
       "    <tr style=\"text-align: right;\">\n",
       "      <th></th>\n",
       "      <th>season_Spring</th>\n",
       "      <th>season_Summer</th>\n",
       "      <th>season_Winter</th>\n",
       "      <th>weather_Mist</th>\n",
       "      <th>weather_Rainy</th>\n",
       "      <th>Day_0</th>\n",
       "      <th>Day_1</th>\n",
       "      <th>Day_2</th>\n",
       "      <th>Month_0</th>\n",
       "      <th>Month_1</th>\n",
       "      <th>Month_2</th>\n",
       "      <th>Month_3</th>\n",
       "      <th>DayPeriod_evening</th>\n",
       "      <th>DayPeriod_morning</th>\n",
       "    </tr>\n",
       "  </thead>\n",
       "  <tbody>\n",
       "    <tr>\n",
       "      <th>0</th>\n",
       "      <td>0.0</td>\n",
       "      <td>0.0</td>\n",
       "      <td>0.0</td>\n",
       "      <td>0.0</td>\n",
       "      <td>0.0</td>\n",
       "      <td>0</td>\n",
       "      <td>0</td>\n",
       "      <td>1</td>\n",
       "      <td>0</td>\n",
       "      <td>0</td>\n",
       "      <td>0</td>\n",
       "      <td>1</td>\n",
       "      <td>1.0</td>\n",
       "      <td>0.0</td>\n",
       "    </tr>\n",
       "    <tr>\n",
       "      <th>1</th>\n",
       "      <td>1.0</td>\n",
       "      <td>0.0</td>\n",
       "      <td>0.0</td>\n",
       "      <td>0.0</td>\n",
       "      <td>0.0</td>\n",
       "      <td>0</td>\n",
       "      <td>1</td>\n",
       "      <td>0</td>\n",
       "      <td>0</td>\n",
       "      <td>0</td>\n",
       "      <td>1</td>\n",
       "      <td>0</td>\n",
       "      <td>0.0</td>\n",
       "      <td>1.0</td>\n",
       "    </tr>\n",
       "    <tr>\n",
       "      <th>2</th>\n",
       "      <td>0.0</td>\n",
       "      <td>0.0</td>\n",
       "      <td>0.0</td>\n",
       "      <td>0.0</td>\n",
       "      <td>0.0</td>\n",
       "      <td>0</td>\n",
       "      <td>0</td>\n",
       "      <td>1</td>\n",
       "      <td>0</td>\n",
       "      <td>0</td>\n",
       "      <td>0</td>\n",
       "      <td>1</td>\n",
       "      <td>1.0</td>\n",
       "      <td>0.0</td>\n",
       "    </tr>\n",
       "  </tbody>\n",
       "</table>\n",
       "</div>"
      ],
      "text/plain": [
       "   season_Spring  season_Summer  season_Winter  weather_Mist  weather_Rainy  \\\n",
       "0            0.0            0.0            0.0           0.0            0.0   \n",
       "1            1.0            0.0            0.0           0.0            0.0   \n",
       "2            0.0            0.0            0.0           0.0            0.0   \n",
       "\n",
       "   Day_0  Day_1  Day_2  Month_0  Month_1  Month_2  Month_3  DayPeriod_evening  \\\n",
       "0      0      0      1        0        0        0        1                1.0   \n",
       "1      0      1      0        0        0        1        0                0.0   \n",
       "2      0      0      1        0        0        0        1                1.0   \n",
       "\n",
       "   DayPeriod_morning  \n",
       "0                0.0  \n",
       "1                1.0  \n",
       "2                0.0  "
      ]
     },
     "execution_count": 2586,
     "metadata": {},
     "output_type": "execute_result"
    }
   ],
   "source": [
    "x_test_cat.head(3)"
   ]
  },
  {
   "cell_type": "markdown",
   "id": "bdecf7b3",
   "metadata": {},
   "source": [
    "### Dealing with outlier points in numerical Feature :"
   ]
  },
  {
   "cell_type": "code",
   "execution_count": 2587,
   "id": "efaef0d4",
   "metadata": {},
   "outputs": [],
   "source": [
    "def Detect_Outlier(data , col):\n",
    "    des = data[col].describe()\n",
    "    IQR = des['75%'] - des['25%']\n",
    "    minw , maxw = des['25%'] - (1.5*IQR),des['75%'] + (1.5*IQR)\n",
    "    otlir = data[(data[col] > maxw) | (data[col] < minw)].index\n",
    "    return otlir"
   ]
  },
  {
   "cell_type": "code",
   "execution_count": 2588,
   "id": "7b77d14b",
   "metadata": {},
   "outputs": [
    {
     "data": {
      "text/plain": [
       "Index(['temp', 'humidity', 'windspeed', 'casual', 'registered',\n",
       "       'rented_bikes_count', 'Year', 'Profit'],\n",
       "      dtype='object')"
      ]
     },
     "execution_count": 2588,
     "metadata": {},
     "output_type": "execute_result"
    }
   ],
   "source": [
    "x_train_num.columns"
   ]
  },
  {
   "cell_type": "markdown",
   "id": "5ad5b674",
   "metadata": {},
   "source": [
    "###### Temprature :"
   ]
  },
  {
   "cell_type": "code",
   "execution_count": 2589,
   "id": "91314e94",
   "metadata": {
    "scrolled": true
   },
   "outputs": [
    {
     "data": {
      "text/plain": [
       "Int64Index([], dtype='int64')"
      ]
     },
     "execution_count": 2589,
     "metadata": {},
     "output_type": "execute_result"
    }
   ],
   "source": [
    "Detect_Outlier(x_train_num , 'temp')"
   ]
  },
  {
   "cell_type": "code",
   "execution_count": 2590,
   "id": "2158bb1e",
   "metadata": {},
   "outputs": [
    {
     "data": {
      "text/plain": [
       "<AxesSubplot:xlabel='temp'>"
      ]
     },
     "execution_count": 2590,
     "metadata": {},
     "output_type": "execute_result"
    },
    {
     "data": {
      "image/png": "[encoded data removed]",
      "text/plain": [
       "<Figure size 360x360 with 1 Axes>"
      ]
     },
     "metadata": {},
     "output_type": "display_data"
    }
   ],
   "source": [
    "sns.boxplot(data = x_train_num , x = 'temp')"
   ]
  },
  {
   "cell_type": "markdown",
   "id": "2a087aea",
   "metadata": {},
   "source": [
    "###### Humidity :"
   ]
  },
  {
   "cell_type": "code",
   "execution_count": 2591,
   "id": "dfb568fd",
   "metadata": {},
   "outputs": [
    {
     "data": {
      "text/plain": [
       "15"
      ]
     },
     "execution_count": 2591,
     "metadata": {},
     "output_type": "execute_result"
    }
   ],
   "source": [
    "otlier_idx = Detect_Outlier(x_train_num,'humidity')\n",
    "len(otlier_idx)"
   ]
  },
  {
   "cell_type": "code",
   "execution_count": 2592,
   "id": "9ecd1722",
   "metadata": {},
   "outputs": [
    {
     "data": {
      "text/plain": [
       "<AxesSubplot:xlabel='humidity'>"
      ]
     },
     "execution_count": 2592,
     "metadata": {},
     "output_type": "execute_result"
    },
    {
     "data": {
      "image/png": "[encoded data removed]",
      "text/plain": [
       "<Figure size 360x360 with 1 Axes>"
      ]
     },
     "metadata": {},
     "output_type": "display_data"
    },
    {
     "data": {
      "image/png": "[encoded data removed]",
      "text/plain": [
       "<Figure size 360x360 with 1 Axes>"
      ]
     },
     "metadata": {},
     "output_type": "display_data"
    }
   ],
   "source": [
    "sns.histplot(x_train_num['humidity'] , bins = 15 , kde = True)\n",
    "plt.figure()\n",
    "sns.boxplot(data = x_train_num , x = 'humidity')"
   ]
  },
  {
   "cell_type": "code",
   "execution_count": 2593,
   "id": "f9624a83",
   "metadata": {},
   "outputs": [],
   "source": [
    "x_train_num['humidity'].loc[otlier_idx] = x_train_num['humidity'].median()"
   ]
  },
  {
   "cell_type": "code",
   "execution_count": 2594,
   "id": "0987d833",
   "metadata": {
    "scrolled": false
   },
   "outputs": [
    {
     "data": {
      "text/plain": [
       "<AxesSubplot:xlabel='humidity'>"
      ]
     },
     "execution_count": 2594,
     "metadata": {},
     "output_type": "execute_result"
    },
    {
     "data": {
      "image/png": "[encoded data removed]",
      "text/plain": [
       "<Figure size 360x360 with 1 Axes>"
      ]
     },
     "metadata": {},
     "output_type": "display_data"
    },
    {
     "data": {
      "image/png": "[encoded data removed]",
      "text/plain": [
       "<Figure size 360x360 with 1 Axes>"
      ]
     },
     "metadata": {},
     "output_type": "display_data"
    }
   ],
   "source": [
    "sns.histplot(x_train_num['humidity'] , bins = 15 , kde = True)\n",
    "plt.figure()\n",
    "sns.boxplot(data = x_train_num , x = 'humidity')"
   ]
  },
  {
   "cell_type": "markdown",
   "id": "834161d2",
   "metadata": {},
   "source": [
    "###### windspeed :"
   ]
  },
  {
   "cell_type": "code",
   "execution_count": 2595,
   "id": "4bc4b123",
   "metadata": {},
   "outputs": [
    {
     "data": {
      "text/html": [
       "<img src=\"wind.PNG\" width=\"500\" height=\"100\"/>"
      ],
      "text/plain": [
       "<IPython.core.display.Image object>"
      ]
     },
     "execution_count": 2595,
     "metadata": {},
     "output_type": "execute_result"
    }
   ],
   "source": [
    "Image(url=\"wind.PNG\", width=500, height=100)"
   ]
  },
  {
   "cell_type": "code",
   "execution_count": 2596,
   "id": "09ede1b7",
   "metadata": {},
   "outputs": [
    {
     "data": {
      "text/plain": [
       "200"
      ]
     },
     "execution_count": 2596,
     "metadata": {},
     "output_type": "execute_result"
    }
   ],
   "source": [
    "otlir_idx = Detect_Outlier(x_train_num , 'windspeed')\n",
    "len(otlir_idx)"
   ]
  },
  {
   "cell_type": "code",
   "execution_count": 2597,
   "id": "13982cbe",
   "metadata": {},
   "outputs": [
    {
     "data": {
      "text/plain": [
       "<AxesSubplot:xlabel='windspeed'>"
      ]
     },
     "execution_count": 2597,
     "metadata": {},
     "output_type": "execute_result"
    },
    {
     "data": {
      "image/png": "[encoded data removed]",
      "text/plain": [
       "<Figure size 360x360 with 1 Axes>"
      ]
     },
     "metadata": {},
     "output_type": "display_data"
    },
    {
     "data": {
      "image/png": "[encoded data removed]",
      "text/plain": [
       "<Figure size 360x360 with 1 Axes>"
      ]
     },
     "metadata": {},
     "output_type": "display_data"
    }
   ],
   "source": [
    "sns.histplot(x_train_num['windspeed'] , bins = 15 , kde = True)\n",
    "plt.figure()\n",
    "sns.boxplot(data = x_train_num , x = 'windspeed')"
   ]
  },
  {
   "cell_type": "code",
   "execution_count": 2598,
   "id": "2e70f9e9",
   "metadata": {},
   "outputs": [],
   "source": [
    "x_train_num['windspeed'].loc[otlir_idx] = x_train_num['windspeed'].median()"
   ]
  },
  {
   "cell_type": "code",
   "execution_count": 2599,
   "id": "f337230c",
   "metadata": {},
   "outputs": [
    {
     "data": {
      "text/plain": [
       "<AxesSubplot:xlabel='windspeed'>"
      ]
     },
     "execution_count": 2599,
     "metadata": {},
     "output_type": "execute_result"
    },
    {
     "data": {
      "image/png": "[encoded data removed]",
      "text/plain": [
       "<Figure size 360x360 with 1 Axes>"
      ]
     },
     "metadata": {},
     "output_type": "display_data"
    },
    {
     "data": {
      "image/png": "[encoded data removed]",
      "text/plain": [
       "<Figure size 360x360 with 1 Axes>"
      ]
     },
     "metadata": {},
     "output_type": "display_data"
    }
   ],
   "source": [
    "sns.histplot(x_train_num['windspeed'] , bins = 15 , kde = True)\n",
    "plt.figure()\n",
    "sns.boxplot(data = x_train_num , x = 'windspeed')"
   ]
  },
  {
   "cell_type": "code",
   "execution_count": 2600,
   "id": "239bb64d",
   "metadata": {},
   "outputs": [
    {
     "data": {
      "text/plain": [
       "94"
      ]
     },
     "execution_count": 2600,
     "metadata": {},
     "output_type": "execute_result"
    }
   ],
   "source": [
    "len(Detect_Outlier(x_train_num , 'windspeed'))"
   ]
  },
  {
   "cell_type": "markdown",
   "id": "0263e7a9",
   "metadata": {},
   "source": [
    "###### casual:"
   ]
  },
  {
   "cell_type": "code",
   "execution_count": 2601,
   "id": "23a0475f",
   "metadata": {
    "scrolled": true
   },
   "outputs": [
    {
     "data": {
      "text/html": [
       "<div>\n",
       "<style scoped>\n",
       "    .dataframe tbody tr th:only-of-type {\n",
       "        vertical-align: middle;\n",
       "    }\n",
       "\n",
       "    .dataframe tbody tr th {\n",
       "        vertical-align: top;\n",
       "    }\n",
       "\n",
       "    .dataframe thead th {\n",
       "        text-align: right;\n",
       "    }\n",
       "</style>\n",
       "<table border=\"1\" class=\"dataframe\">\n",
       "  <thead>\n",
       "    <tr style=\"text-align: right;\">\n",
       "      <th></th>\n",
       "      <th>count</th>\n",
       "      <th>mean</th>\n",
       "      <th>std</th>\n",
       "      <th>min</th>\n",
       "      <th>25%</th>\n",
       "      <th>50%</th>\n",
       "      <th>75%</th>\n",
       "      <th>max</th>\n",
       "    </tr>\n",
       "  </thead>\n",
       "  <tbody>\n",
       "    <tr>\n",
       "      <th>casual</th>\n",
       "      <td>8551.0</td>\n",
       "      <td>35.480295</td>\n",
       "      <td>48.991223</td>\n",
       "      <td>0.0</td>\n",
       "      <td>4.0</td>\n",
       "      <td>16.0</td>\n",
       "      <td>48.0</td>\n",
       "      <td>361.0</td>\n",
       "    </tr>\n",
       "  </tbody>\n",
       "</table>\n",
       "</div>"
      ],
      "text/plain": [
       "         count       mean        std  min  25%   50%   75%    max\n",
       "casual  8551.0  35.480295  48.991223  0.0  4.0  16.0  48.0  361.0"
      ]
     },
     "execution_count": 2601,
     "metadata": {},
     "output_type": "execute_result"
    }
   ],
   "source": [
    "des = x_train_num['casual'].describe().to_frame().T\n",
    "des"
   ]
  },
  {
   "cell_type": "code",
   "execution_count": 2602,
   "id": "04514245",
   "metadata": {},
   "outputs": [
    {
     "data": {
      "text/plain": [
       "<AxesSubplot:xlabel='casual', ylabel='Density'>"
      ]
     },
     "execution_count": 2602,
     "metadata": {},
     "output_type": "execute_result"
    },
    {
     "data": {
      "image/png": "[encoded data removed]",
      "text/plain": [
       "<Figure size 360x360 with 1 Axes>"
      ]
     },
     "metadata": {},
     "output_type": "display_data"
    }
   ],
   "source": [
    "sns.distplot(x_train_num['casual'])"
   ]
  },
  {
   "cell_type": "code",
   "execution_count": 2603,
   "id": "69124b73",
   "metadata": {},
   "outputs": [
    {
     "data": {
      "text/plain": [
       "114.0"
      ]
     },
     "execution_count": 2603,
     "metadata": {},
     "output_type": "execute_result"
    }
   ],
   "source": [
    "maxw = des['75%'] + (1.5 * (des['75%'] - des['25%']))\n",
    "maxw.values[0]"
   ]
  },
  {
   "cell_type": "code",
   "execution_count": 2604,
   "id": "5185dde2",
   "metadata": {},
   "outputs": [],
   "source": [
    "x_train_num['casual'].loc[Detect_Outlier(x_train_num , 'casual')] = x_train_num['casual'].median()"
   ]
  },
  {
   "cell_type": "code",
   "execution_count": 2605,
   "id": "a03b077f",
   "metadata": {},
   "outputs": [
    {
     "data": {
      "text/plain": [
       "486"
      ]
     },
     "execution_count": 2605,
     "metadata": {},
     "output_type": "execute_result"
    }
   ],
   "source": [
    "len(Detect_Outlier(x_train_num , 'casual'))"
   ]
  },
  {
   "cell_type": "code",
   "execution_count": 2606,
   "id": "3291147c",
   "metadata": {},
   "outputs": [
    {
     "data": {
      "text/html": [
       "<div>\n",
       "<style scoped>\n",
       "    .dataframe tbody tr th:only-of-type {\n",
       "        vertical-align: middle;\n",
       "    }\n",
       "\n",
       "    .dataframe tbody tr th {\n",
       "        vertical-align: top;\n",
       "    }\n",
       "\n",
       "    .dataframe thead th {\n",
       "        text-align: right;\n",
       "    }\n",
       "</style>\n",
       "<table border=\"1\" class=\"dataframe\">\n",
       "  <thead>\n",
       "    <tr style=\"text-align: right;\">\n",
       "      <th></th>\n",
       "      <th>count</th>\n",
       "      <th>mean</th>\n",
       "      <th>std</th>\n",
       "      <th>min</th>\n",
       "      <th>25%</th>\n",
       "      <th>50%</th>\n",
       "      <th>75%</th>\n",
       "      <th>max</th>\n",
       "    </tr>\n",
       "  </thead>\n",
       "  <tbody>\n",
       "    <tr>\n",
       "      <th>casual</th>\n",
       "      <td>8551.0</td>\n",
       "      <td>24.293767</td>\n",
       "      <td>26.755707</td>\n",
       "      <td>0.0</td>\n",
       "      <td>4.0</td>\n",
       "      <td>16.0</td>\n",
       "      <td>35.0</td>\n",
       "      <td>114.0</td>\n",
       "    </tr>\n",
       "  </tbody>\n",
       "</table>\n",
       "</div>"
      ],
      "text/plain": [
       "         count       mean        std  min  25%   50%   75%    max\n",
       "casual  8551.0  24.293767  26.755707  0.0  4.0  16.0  35.0  114.0"
      ]
     },
     "execution_count": 2606,
     "metadata": {},
     "output_type": "execute_result"
    }
   ],
   "source": [
    "x_train_num['casual'].describe().to_frame().T"
   ]
  },
  {
   "cell_type": "code",
   "execution_count": 2607,
   "id": "215a1a9e",
   "metadata": {},
   "outputs": [
    {
     "data": {
      "text/plain": [
       "<AxesSubplot:xlabel='casual', ylabel='Count'>"
      ]
     },
     "execution_count": 2607,
     "metadata": {},
     "output_type": "execute_result"
    },
    {
     "data": {
      "image/png": "[encoded data removed]",
      "text/plain": [
       "<Figure size 360x360 with 1 Axes>"
      ]
     },
     "metadata": {},
     "output_type": "display_data"
    }
   ],
   "source": [
    "sns.histplot(x_train_num['casual'])"
   ]
  },
  {
   "cell_type": "code",
   "execution_count": 2608,
   "id": "0246d7b4",
   "metadata": {
    "scrolled": true
   },
   "outputs": [
    {
     "data": {
      "text/plain": [
       "<AxesSubplot:xlabel='casual'>"
      ]
     },
     "execution_count": 2608,
     "metadata": {},
     "output_type": "execute_result"
    },
    {
     "data": {
      "image/png": "[encoded data removed]",
      "text/plain": [
       "<Figure size 360x360 with 1 Axes>"
      ]
     },
     "metadata": {},
     "output_type": "display_data"
    }
   ],
   "source": [
    "sns.boxplot(data = x_train_num , x = 'casual')"
   ]
  },
  {
   "cell_type": "markdown",
   "id": "1c3bdde4",
   "metadata": {},
   "source": [
    "###### registered:"
   ]
  },
  {
   "cell_type": "code",
   "execution_count": 2609,
   "id": "4e5a4135",
   "metadata": {
    "scrolled": true
   },
   "outputs": [
    {
     "data": {
      "text/html": [
       "<div>\n",
       "<style scoped>\n",
       "    .dataframe tbody tr th:only-of-type {\n",
       "        vertical-align: middle;\n",
       "    }\n",
       "\n",
       "    .dataframe tbody tr th {\n",
       "        vertical-align: top;\n",
       "    }\n",
       "\n",
       "    .dataframe thead th {\n",
       "        text-align: right;\n",
       "    }\n",
       "</style>\n",
       "<table border=\"1\" class=\"dataframe\">\n",
       "  <thead>\n",
       "    <tr style=\"text-align: right;\">\n",
       "      <th></th>\n",
       "      <th>count</th>\n",
       "      <th>mean</th>\n",
       "      <th>std</th>\n",
       "      <th>min</th>\n",
       "      <th>25%</th>\n",
       "      <th>50%</th>\n",
       "      <th>75%</th>\n",
       "      <th>max</th>\n",
       "    </tr>\n",
       "  </thead>\n",
       "  <tbody>\n",
       "    <tr>\n",
       "      <th>registered</th>\n",
       "      <td>8551.0</td>\n",
       "      <td>156.19144</td>\n",
       "      <td>152.26016</td>\n",
       "      <td>0.0</td>\n",
       "      <td>35.0</td>\n",
       "      <td>118.0</td>\n",
       "      <td>223.0</td>\n",
       "      <td>857.0</td>\n",
       "    </tr>\n",
       "  </tbody>\n",
       "</table>\n",
       "</div>"
      ],
      "text/plain": [
       "             count       mean        std  min   25%    50%    75%    max\n",
       "registered  8551.0  156.19144  152.26016  0.0  35.0  118.0  223.0  857.0"
      ]
     },
     "execution_count": 2609,
     "metadata": {},
     "output_type": "execute_result"
    }
   ],
   "source": [
    "des = x_train_num['registered'].describe().to_frame().T\n",
    "des"
   ]
  },
  {
   "cell_type": "code",
   "execution_count": 2610,
   "id": "2c0b3c11",
   "metadata": {},
   "outputs": [
    {
     "data": {
      "text/plain": [
       "<AxesSubplot:xlabel='registered', ylabel='Count'>"
      ]
     },
     "execution_count": 2610,
     "metadata": {},
     "output_type": "execute_result"
    },
    {
     "data": {
      "image/png": "[encoded data removed]",
      "text/plain": [
       "<Figure size 360x360 with 1 Axes>"
      ]
     },
     "metadata": {},
     "output_type": "display_data"
    }
   ],
   "source": [
    "sns.histplot(x_train_num['registered'] , bins = 20 , kde = True , )"
   ]
  },
  {
   "cell_type": "code",
   "execution_count": 2611,
   "id": "9a989902",
   "metadata": {},
   "outputs": [
    {
     "data": {
      "text/plain": [
       "<AxesSubplot:xlabel='registered'>"
      ]
     },
     "execution_count": 2611,
     "metadata": {},
     "output_type": "execute_result"
    },
    {
     "data": {
      "image/png": "[encoded data removed]",
      "text/plain": [
       "<Figure size 360x360 with 1 Axes>"
      ]
     },
     "metadata": {},
     "output_type": "display_data"
    }
   ],
   "source": [
    "sns.boxplot(x_train_num['registered'])"
   ]
  },
  {
   "cell_type": "code",
   "execution_count": 2612,
   "id": "eb89fad7",
   "metadata": {},
   "outputs": [
    {
     "data": {
      "text/plain": [
       "334"
      ]
     },
     "execution_count": 2612,
     "metadata": {},
     "output_type": "execute_result"
    }
   ],
   "source": [
    "len(Detect_Outlier(x_train_num , 'registered'))"
   ]
  },
  {
   "cell_type": "code",
   "execution_count": 2613,
   "id": "8d224914",
   "metadata": {},
   "outputs": [],
   "source": [
    "x_train_num['registered'].loc[Detect_Outlier(x_train_num , 'registered')] = x_train_num['registered'].median()"
   ]
  },
  {
   "cell_type": "code",
   "execution_count": 2614,
   "id": "55142788",
   "metadata": {},
   "outputs": [
    {
     "data": {
      "text/plain": [
       "<AxesSubplot:xlabel='registered'>"
      ]
     },
     "execution_count": 2614,
     "metadata": {},
     "output_type": "execute_result"
    },
    {
     "data": {
      "image/png": "[encoded data removed]",
      "text/plain": [
       "<Figure size 360x360 with 1 Axes>"
      ]
     },
     "metadata": {},
     "output_type": "display_data"
    }
   ],
   "source": [
    "sns.boxplot(x_train_num['registered'])"
   ]
  },
  {
   "cell_type": "markdown",
   "id": "0f221897",
   "metadata": {},
   "source": [
    "###### rented_bikes_count"
   ]
  },
  {
   "cell_type": "code",
   "execution_count": 2615,
   "id": "86c633a9",
   "metadata": {
    "scrolled": true
   },
   "outputs": [
    {
     "data": {
      "text/html": [
       "<div>\n",
       "<style scoped>\n",
       "    .dataframe tbody tr th:only-of-type {\n",
       "        vertical-align: middle;\n",
       "    }\n",
       "\n",
       "    .dataframe tbody tr th {\n",
       "        vertical-align: top;\n",
       "    }\n",
       "\n",
       "    .dataframe thead th {\n",
       "        text-align: right;\n",
       "    }\n",
       "</style>\n",
       "<table border=\"1\" class=\"dataframe\">\n",
       "  <thead>\n",
       "    <tr style=\"text-align: right;\">\n",
       "      <th></th>\n",
       "      <th>count</th>\n",
       "      <th>mean</th>\n",
       "      <th>std</th>\n",
       "      <th>min</th>\n",
       "      <th>25%</th>\n",
       "      <th>50%</th>\n",
       "      <th>75%</th>\n",
       "      <th>max</th>\n",
       "    </tr>\n",
       "  </thead>\n",
       "  <tbody>\n",
       "    <tr>\n",
       "      <th>rented_bikes_count</th>\n",
       "      <td>8551.0</td>\n",
       "      <td>191.671734</td>\n",
       "      <td>181.560427</td>\n",
       "      <td>1.0</td>\n",
       "      <td>41.0</td>\n",
       "      <td>144.0</td>\n",
       "      <td>284.0</td>\n",
       "      <td>970.0</td>\n",
       "    </tr>\n",
       "  </tbody>\n",
       "</table>\n",
       "</div>"
      ],
      "text/plain": [
       "                     count        mean         std  min   25%    50%    75%  \\\n",
       "rented_bikes_count  8551.0  191.671734  181.560427  1.0  41.0  144.0  284.0   \n",
       "\n",
       "                      max  \n",
       "rented_bikes_count  970.0  "
      ]
     },
     "execution_count": 2615,
     "metadata": {},
     "output_type": "execute_result"
    }
   ],
   "source": [
    "des = x_train_num['rented_bikes_count'].describe().to_frame().T\n",
    "des"
   ]
  },
  {
   "cell_type": "code",
   "execution_count": 2616,
   "id": "3b39bcd9",
   "metadata": {},
   "outputs": [
    {
     "data": {
      "text/plain": [
       "<AxesSubplot:xlabel='rented_bikes_count'>"
      ]
     },
     "execution_count": 2616,
     "metadata": {},
     "output_type": "execute_result"
    },
    {
     "data": {
      "image/png": "[encoded data removed]",
      "text/plain": [
       "<Figure size 360x360 with 1 Axes>"
      ]
     },
     "metadata": {},
     "output_type": "display_data"
    }
   ],
   "source": [
    "sns.boxplot(x_train_num['rented_bikes_count'])"
   ]
  },
  {
   "cell_type": "code",
   "execution_count": 2617,
   "id": "8c134900",
   "metadata": {},
   "outputs": [],
   "source": [
    "x_train_num['rented_bikes_count'].loc[Detect_Outlier(x_train_num , 'rented_bikes_count')] = x_train_num['rented_bikes_count'].median()"
   ]
  },
  {
   "cell_type": "code",
   "execution_count": 2618,
   "id": "7167e98c",
   "metadata": {},
   "outputs": [
    {
     "data": {
      "text/plain": [
       "<AxesSubplot:xlabel='rented_bikes_count'>"
      ]
     },
     "execution_count": 2618,
     "metadata": {},
     "output_type": "execute_result"
    },
    {
     "data": {
      "image/png": "[encoded data removed]",
      "text/plain": [
       "<Figure size 360x360 with 1 Axes>"
      ]
     },
     "metadata": {},
     "output_type": "display_data"
    }
   ],
   "source": [
    "sns.boxplot(x_train_num['rented_bikes_count'])"
   ]
  },
  {
   "cell_type": "markdown",
   "id": "7dbd64ce",
   "metadata": {},
   "source": [
    "###### Profit"
   ]
  },
  {
   "cell_type": "code",
   "execution_count": 2619,
   "id": "41d53e54",
   "metadata": {},
   "outputs": [
    {
     "data": {
      "text/html": [
       "<div>\n",
       "<style scoped>\n",
       "    .dataframe tbody tr th:only-of-type {\n",
       "        vertical-align: middle;\n",
       "    }\n",
       "\n",
       "    .dataframe tbody tr th {\n",
       "        vertical-align: top;\n",
       "    }\n",
       "\n",
       "    .dataframe thead th {\n",
       "        text-align: right;\n",
       "    }\n",
       "</style>\n",
       "<table border=\"1\" class=\"dataframe\">\n",
       "  <thead>\n",
       "    <tr style=\"text-align: right;\">\n",
       "      <th></th>\n",
       "      <th>count</th>\n",
       "      <th>mean</th>\n",
       "      <th>std</th>\n",
       "      <th>min</th>\n",
       "      <th>25%</th>\n",
       "      <th>50%</th>\n",
       "      <th>75%</th>\n",
       "      <th>max</th>\n",
       "    </tr>\n",
       "  </thead>\n",
       "  <tbody>\n",
       "    <tr>\n",
       "      <th>Profit</th>\n",
       "      <td>8551.0</td>\n",
       "      <td>1281.713026</td>\n",
       "      <td>1297.923253</td>\n",
       "      <td>4.128767</td>\n",
       "      <td>244.928767</td>\n",
       "      <td>881.328767</td>\n",
       "      <td>1904.728767</td>\n",
       "      <td>7795.728767</td>\n",
       "    </tr>\n",
       "  </tbody>\n",
       "</table>\n",
       "</div>"
      ],
      "text/plain": [
       "         count         mean          std       min         25%         50%  \\\n",
       "Profit  8551.0  1281.713026  1297.923253  4.128767  244.928767  881.328767   \n",
       "\n",
       "                75%          max  \n",
       "Profit  1904.728767  7795.728767  "
      ]
     },
     "execution_count": 2619,
     "metadata": {},
     "output_type": "execute_result"
    }
   ],
   "source": [
    "des = x_train_num['Profit'].describe().to_frame().T\n",
    "des"
   ]
  },
  {
   "cell_type": "code",
   "execution_count": 2620,
   "id": "e952700b",
   "metadata": {},
   "outputs": [
    {
     "data": {
      "text/plain": [
       "<AxesSubplot:xlabel='Profit'>"
      ]
     },
     "execution_count": 2620,
     "metadata": {},
     "output_type": "execute_result"
    },
    {
     "data": {
      "image/png": "[encoded data removed]",
      "text/plain": [
       "<Figure size 360x360 with 1 Axes>"
      ]
     },
     "metadata": {},
     "output_type": "display_data"
    }
   ],
   "source": [
    "sns.boxplot(x_train_num['Profit'])"
   ]
  },
  {
   "cell_type": "code",
   "execution_count": 2621,
   "id": "a40c438b",
   "metadata": {},
   "outputs": [],
   "source": [
    "x_train_num['Profit'].loc[Detect_Outlier(x_train_num , 'Profit')] = x_train_num['Profit'].median()"
   ]
  },
  {
   "cell_type": "code",
   "execution_count": 2622,
   "id": "65cced1b",
   "metadata": {},
   "outputs": [
    {
     "data": {
      "text/plain": [
       "<AxesSubplot:xlabel='Profit'>"
      ]
     },
     "execution_count": 2622,
     "metadata": {},
     "output_type": "execute_result"
    },
    {
     "data": {
      "image/png": "[encoded data removed]",
      "text/plain": [
       "<Figure size 360x360 with 1 Axes>"
      ]
     },
     "metadata": {},
     "output_type": "display_data"
    }
   ],
   "source": [
    "sns.boxplot(x_train_num['Profit'])"
   ]
  },
  {
   "cell_type": "code",
   "execution_count": 2623,
   "id": "02722c01",
   "metadata": {},
   "outputs": [
    {
     "data": {
      "text/html": [
       "<div>\n",
       "<style scoped>\n",
       "    .dataframe tbody tr th:only-of-type {\n",
       "        vertical-align: middle;\n",
       "    }\n",
       "\n",
       "    .dataframe tbody tr th {\n",
       "        vertical-align: top;\n",
       "    }\n",
       "\n",
       "    .dataframe thead th {\n",
       "        text-align: right;\n",
       "    }\n",
       "</style>\n",
       "<table border=\"1\" class=\"dataframe\">\n",
       "  <thead>\n",
       "    <tr style=\"text-align: right;\">\n",
       "      <th></th>\n",
       "      <th>temp</th>\n",
       "      <th>humidity</th>\n",
       "      <th>windspeed</th>\n",
       "      <th>casual</th>\n",
       "      <th>registered</th>\n",
       "      <th>rented_bikes_count</th>\n",
       "      <th>Year</th>\n",
       "      <th>Profit</th>\n",
       "    </tr>\n",
       "  </thead>\n",
       "  <tbody>\n",
       "    <tr>\n",
       "      <th>0</th>\n",
       "      <td>12.30</td>\n",
       "      <td>34.2</td>\n",
       "      <td>26.0027</td>\n",
       "      <td>5.0</td>\n",
       "      <td>69.0</td>\n",
       "      <td>74.0</td>\n",
       "      <td>2012.0</td>\n",
       "      <td>382.528767</td>\n",
       "    </tr>\n",
       "    <tr>\n",
       "      <th>1</th>\n",
       "      <td>13.12</td>\n",
       "      <td>66.0</td>\n",
       "      <td>8.9981</td>\n",
       "      <td>10.0</td>\n",
       "      <td>10.0</td>\n",
       "      <td>20.0</td>\n",
       "      <td>2012.0</td>\n",
       "      <td>214.828767</td>\n",
       "    </tr>\n",
       "  </tbody>\n",
       "</table>\n",
       "</div>"
      ],
      "text/plain": [
       "    temp  humidity  windspeed  casual  registered  rented_bikes_count    Year  \\\n",
       "0  12.30      34.2    26.0027     5.0        69.0                74.0  2012.0   \n",
       "1  13.12      66.0     8.9981    10.0        10.0                20.0  2012.0   \n",
       "\n",
       "       Profit  \n",
       "0  382.528767  \n",
       "1  214.828767  "
      ]
     },
     "execution_count": 2623,
     "metadata": {},
     "output_type": "execute_result"
    }
   ],
   "source": [
    "x_train_num.head(2)"
   ]
  },
  {
   "cell_type": "code",
   "execution_count": 2624,
   "id": "fff31e8d",
   "metadata": {},
   "outputs": [
    {
     "data": {
      "text/html": [
       "<div>\n",
       "<style scoped>\n",
       "    .dataframe tbody tr th:only-of-type {\n",
       "        vertical-align: middle;\n",
       "    }\n",
       "\n",
       "    .dataframe tbody tr th {\n",
       "        vertical-align: top;\n",
       "    }\n",
       "\n",
       "    .dataframe thead th {\n",
       "        text-align: right;\n",
       "    }\n",
       "</style>\n",
       "<table border=\"1\" class=\"dataframe\">\n",
       "  <thead>\n",
       "    <tr style=\"text-align: right;\">\n",
       "      <th></th>\n",
       "      <th>season_Spring</th>\n",
       "      <th>season_Summer</th>\n",
       "      <th>season_Winter</th>\n",
       "      <th>weather_Mist</th>\n",
       "      <th>weather_Rainy</th>\n",
       "      <th>weather_Snowy</th>\n",
       "      <th>Day_0</th>\n",
       "      <th>Day_1</th>\n",
       "      <th>Day_2</th>\n",
       "      <th>Month_0</th>\n",
       "      <th>Month_1</th>\n",
       "      <th>Month_2</th>\n",
       "      <th>Month_3</th>\n",
       "      <th>DayPeriod_evening</th>\n",
       "      <th>DayPeriod_morning</th>\n",
       "    </tr>\n",
       "  </thead>\n",
       "  <tbody>\n",
       "    <tr>\n",
       "      <th>0</th>\n",
       "      <td>0.0</td>\n",
       "      <td>0.0</td>\n",
       "      <td>1.0</td>\n",
       "      <td>0.0</td>\n",
       "      <td>0.0</td>\n",
       "      <td>0.0</td>\n",
       "      <td>0</td>\n",
       "      <td>0</td>\n",
       "      <td>1</td>\n",
       "      <td>0</td>\n",
       "      <td>0</td>\n",
       "      <td>0</td>\n",
       "      <td>1</td>\n",
       "      <td>1.0</td>\n",
       "      <td>0.0</td>\n",
       "    </tr>\n",
       "    <tr>\n",
       "      <th>1</th>\n",
       "      <td>0.0</td>\n",
       "      <td>0.0</td>\n",
       "      <td>1.0</td>\n",
       "      <td>0.0</td>\n",
       "      <td>0.0</td>\n",
       "      <td>0.0</td>\n",
       "      <td>0</td>\n",
       "      <td>1</td>\n",
       "      <td>0</td>\n",
       "      <td>0</td>\n",
       "      <td>0</td>\n",
       "      <td>1</td>\n",
       "      <td>0</td>\n",
       "      <td>0.0</td>\n",
       "      <td>1.0</td>\n",
       "    </tr>\n",
       "  </tbody>\n",
       "</table>\n",
       "</div>"
      ],
      "text/plain": [
       "   season_Spring  season_Summer  season_Winter  weather_Mist  weather_Rainy  \\\n",
       "0            0.0            0.0            1.0           0.0            0.0   \n",
       "1            0.0            0.0            1.0           0.0            0.0   \n",
       "\n",
       "   weather_Snowy  Day_0  Day_1  Day_2  Month_0  Month_1  Month_2  Month_3  \\\n",
       "0            0.0      0      0      1        0        0        0        1   \n",
       "1            0.0      0      1      0        0        0        1        0   \n",
       "\n",
       "   DayPeriod_evening  DayPeriod_morning  \n",
       "0                1.0                0.0  \n",
       "1                0.0                1.0  "
      ]
     },
     "execution_count": 2624,
     "metadata": {},
     "output_type": "execute_result"
    }
   ],
   "source": [
    "x_train_cat.head(2)"
   ]
  },
  {
   "cell_type": "code",
   "execution_count": 2625,
   "id": "97363df2",
   "metadata": {},
   "outputs": [],
   "source": [
    "#x_train.to_csv('train.csv' , index = False)"
   ]
  },
  {
   "cell_type": "code",
   "execution_count": 2626,
   "id": "9adc159c",
   "metadata": {},
   "outputs": [],
   "source": [
    "y_train = x_train_num['Profit']\n",
    "x_train = pd.concat([x_train_cat , x_train_num] , axis = 1)\n",
    "x_train.drop(['Profit'] , inplace = True , axis = 1)"
   ]
  },
  {
   "cell_type": "code",
   "execution_count": 2627,
   "id": "6697dd29",
   "metadata": {
    "scrolled": true
   },
   "outputs": [
    {
     "data": {
      "text/html": [
       "<div>\n",
       "<style scoped>\n",
       "    .dataframe tbody tr th:only-of-type {\n",
       "        vertical-align: middle;\n",
       "    }\n",
       "\n",
       "    .dataframe tbody tr th {\n",
       "        vertical-align: top;\n",
       "    }\n",
       "\n",
       "    .dataframe thead th {\n",
       "        text-align: right;\n",
       "    }\n",
       "</style>\n",
       "<table border=\"1\" class=\"dataframe\">\n",
       "  <thead>\n",
       "    <tr style=\"text-align: right;\">\n",
       "      <th></th>\n",
       "      <th>season_Spring</th>\n",
       "      <th>season_Summer</th>\n",
       "      <th>season_Winter</th>\n",
       "      <th>weather_Mist</th>\n",
       "      <th>weather_Rainy</th>\n",
       "      <th>weather_Snowy</th>\n",
       "      <th>Day_0</th>\n",
       "      <th>Day_1</th>\n",
       "      <th>Day_2</th>\n",
       "      <th>Month_0</th>\n",
       "      <th>...</th>\n",
       "      <th>Month_3</th>\n",
       "      <th>DayPeriod_evening</th>\n",
       "      <th>DayPeriod_morning</th>\n",
       "      <th>temp</th>\n",
       "      <th>humidity</th>\n",
       "      <th>windspeed</th>\n",
       "      <th>casual</th>\n",
       "      <th>registered</th>\n",
       "      <th>rented_bikes_count</th>\n",
       "      <th>Year</th>\n",
       "    </tr>\n",
       "  </thead>\n",
       "  <tbody>\n",
       "    <tr>\n",
       "      <th>0</th>\n",
       "      <td>0.0</td>\n",
       "      <td>0.0</td>\n",
       "      <td>1.0</td>\n",
       "      <td>0.0</td>\n",
       "      <td>0.0</td>\n",
       "      <td>0.0</td>\n",
       "      <td>0</td>\n",
       "      <td>0</td>\n",
       "      <td>1</td>\n",
       "      <td>0</td>\n",
       "      <td>...</td>\n",
       "      <td>1</td>\n",
       "      <td>1.0</td>\n",
       "      <td>0.0</td>\n",
       "      <td>12.30</td>\n",
       "      <td>34.2</td>\n",
       "      <td>26.0027</td>\n",
       "      <td>5.0</td>\n",
       "      <td>69.0</td>\n",
       "      <td>74.0</td>\n",
       "      <td>2012.0</td>\n",
       "    </tr>\n",
       "    <tr>\n",
       "      <th>1</th>\n",
       "      <td>0.0</td>\n",
       "      <td>0.0</td>\n",
       "      <td>1.0</td>\n",
       "      <td>0.0</td>\n",
       "      <td>0.0</td>\n",
       "      <td>0.0</td>\n",
       "      <td>0</td>\n",
       "      <td>1</td>\n",
       "      <td>0</td>\n",
       "      <td>0</td>\n",
       "      <td>...</td>\n",
       "      <td>0</td>\n",
       "      <td>0.0</td>\n",
       "      <td>1.0</td>\n",
       "      <td>13.12</td>\n",
       "      <td>66.0</td>\n",
       "      <td>8.9981</td>\n",
       "      <td>10.0</td>\n",
       "      <td>10.0</td>\n",
       "      <td>20.0</td>\n",
       "      <td>2012.0</td>\n",
       "    </tr>\n",
       "    <tr>\n",
       "      <th>2</th>\n",
       "      <td>0.0</td>\n",
       "      <td>1.0</td>\n",
       "      <td>0.0</td>\n",
       "      <td>0.0</td>\n",
       "      <td>0.0</td>\n",
       "      <td>0.0</td>\n",
       "      <td>0</td>\n",
       "      <td>1</td>\n",
       "      <td>0</td>\n",
       "      <td>0</td>\n",
       "      <td>...</td>\n",
       "      <td>1</td>\n",
       "      <td>0.0</td>\n",
       "      <td>1.0</td>\n",
       "      <td>17.22</td>\n",
       "      <td>41.0</td>\n",
       "      <td>19.9995</td>\n",
       "      <td>0.0</td>\n",
       "      <td>5.0</td>\n",
       "      <td>5.0</td>\n",
       "      <td>2012.0</td>\n",
       "    </tr>\n",
       "    <tr>\n",
       "      <th>3</th>\n",
       "      <td>1.0</td>\n",
       "      <td>0.0</td>\n",
       "      <td>0.0</td>\n",
       "      <td>0.0</td>\n",
       "      <td>0.0</td>\n",
       "      <td>0.0</td>\n",
       "      <td>0</td>\n",
       "      <td>0</td>\n",
       "      <td>1</td>\n",
       "      <td>0</td>\n",
       "      <td>...</td>\n",
       "      <td>0</td>\n",
       "      <td>1.0</td>\n",
       "      <td>0.0</td>\n",
       "      <td>22.14</td>\n",
       "      <td>42.0</td>\n",
       "      <td>23.9994</td>\n",
       "      <td>16.0</td>\n",
       "      <td>345.0</td>\n",
       "      <td>361.0</td>\n",
       "      <td>2012.0</td>\n",
       "    </tr>\n",
       "    <tr>\n",
       "      <th>4</th>\n",
       "      <td>0.0</td>\n",
       "      <td>0.0</td>\n",
       "      <td>1.0</td>\n",
       "      <td>0.0</td>\n",
       "      <td>0.0</td>\n",
       "      <td>0.0</td>\n",
       "      <td>0</td>\n",
       "      <td>1</td>\n",
       "      <td>1</td>\n",
       "      <td>0</td>\n",
       "      <td>...</td>\n",
       "      <td>1</td>\n",
       "      <td>1.0</td>\n",
       "      <td>0.0</td>\n",
       "      <td>21.32</td>\n",
       "      <td>62.4</td>\n",
       "      <td>7.0015</td>\n",
       "      <td>78.0</td>\n",
       "      <td>124.0</td>\n",
       "      <td>202.0</td>\n",
       "      <td>2011.0</td>\n",
       "    </tr>\n",
       "  </tbody>\n",
       "</table>\n",
       "<p>5 rows × 22 columns</p>\n",
       "</div>"
      ],
      "text/plain": [
       "   season_Spring  season_Summer  season_Winter  weather_Mist  weather_Rainy  \\\n",
       "0            0.0            0.0            1.0           0.0            0.0   \n",
       "1            0.0            0.0            1.0           0.0            0.0   \n",
       "2            0.0            1.0            0.0           0.0            0.0   \n",
       "3            1.0            0.0            0.0           0.0            0.0   \n",
       "4            0.0            0.0            1.0           0.0            0.0   \n",
       "\n",
       "   weather_Snowy  Day_0  Day_1  Day_2  Month_0  ...  Month_3  \\\n",
       "0            0.0      0      0      1        0  ...        1   \n",
       "1            0.0      0      1      0        0  ...        0   \n",
       "2            0.0      0      1      0        0  ...        1   \n",
       "3            0.0      0      0      1        0  ...        0   \n",
       "4            0.0      0      1      1        0  ...        1   \n",
       "\n",
       "   DayPeriod_evening  DayPeriod_morning   temp  humidity  windspeed  casual  \\\n",
       "0                1.0                0.0  12.30      34.2    26.0027     5.0   \n",
       "1                0.0                1.0  13.12      66.0     8.9981    10.0   \n",
       "2                0.0                1.0  17.22      41.0    19.9995     0.0   \n",
       "3                1.0                0.0  22.14      42.0    23.9994    16.0   \n",
       "4                1.0                0.0  21.32      62.4     7.0015    78.0   \n",
       "\n",
       "   registered  rented_bikes_count    Year  \n",
       "0        69.0                74.0  2012.0  \n",
       "1        10.0                20.0  2012.0  \n",
       "2         5.0                 5.0  2012.0  \n",
       "3       345.0               361.0  2012.0  \n",
       "4       124.0               202.0  2011.0  \n",
       "\n",
       "[5 rows x 22 columns]"
      ]
     },
     "execution_count": 2627,
     "metadata": {},
     "output_type": "execute_result"
    }
   ],
   "source": [
    "x_train.head()"
   ]
  },
  {
   "cell_type": "markdown",
   "id": "aa7fa3fc",
   "metadata": {},
   "source": [
    "##### X_test :"
   ]
  },
  {
   "cell_type": "code",
   "execution_count": 2628,
   "id": "1c5268cf",
   "metadata": {},
   "outputs": [],
   "source": [
    "Year = x_test_num['Year']\n",
    "x_test_num.drop(['Year'] , axis = 1 , inplace = True)"
   ]
  },
  {
   "cell_type": "code",
   "execution_count": 2629,
   "id": "928dcc6c",
   "metadata": {},
   "outputs": [
    {
     "name": "stdout",
     "output_type": "stream",
     "text": [
      "temp   0\n",
      "humidity   5\n",
      "windspeed   74\n",
      "casual   148\n",
      "registered   72\n",
      "rented_bikes_count   66\n",
      "Profit   104\n"
     ]
    },
    {
     "data": {
      "image/png": "[encoded data removed]",
      "text/plain": [
       "<Figure size 360x360 with 1 Axes>"
      ]
     },
     "metadata": {},
     "output_type": "display_data"
    },
    {
     "data": {
      "image/png": "[encoded data removed]",
      "text/plain": [
       "<Figure size 360x360 with 1 Axes>"
      ]
     },
     "metadata": {},
     "output_type": "display_data"
    },
    {
     "data": {
      "image/png": "[encoded data removed]",
      "text/plain": [
       "<Figure size 360x360 with 1 Axes>"
      ]
     },
     "metadata": {},
     "output_type": "display_data"
    },
    {
     "data": {
      "image/png": "[encoded data removed]",
      "text/plain": [
       "<Figure size 360x360 with 1 Axes>"
      ]
     },
     "metadata": {},
     "output_type": "display_data"
    },
    {
     "data": {
      "image/png": "[encoded data removed]",
      "text/plain": [
       "<Figure size 360x360 with 1 Axes>"
      ]
     },
     "metadata": {},
     "output_type": "display_data"
    },
    {
     "data": {
      "image/png": "[encoded data removed]",
      "text/plain": [
       "<Figure size 360x360 with 1 Axes>"
      ]
     },
     "metadata": {},
     "output_type": "display_data"
    },
    {
     "data": {
      "image/png": "[encoded data removed]",
      "text/plain": [
       "<Figure size 360x360 with 1 Axes>"
      ]
     },
     "metadata": {},
     "output_type": "display_data"
    },
    {
     "data": {
      "text/plain": [
       "<Figure size 360x360 with 0 Axes>"
      ]
     },
     "metadata": {},
     "output_type": "display_data"
    }
   ],
   "source": [
    "for i in x_test_num.columns:\n",
    "    print(f'{i}   {len(Detect_Outlier(x_test_num , i))}')\n",
    "    sns.boxplot(x_test_num[i])\n",
    "    plt.figure()"
   ]
  },
  {
   "cell_type": "code",
   "execution_count": 2630,
   "id": "cf332a6c",
   "metadata": {},
   "outputs": [],
   "source": [
    "for i in x_test_num.columns:\n",
    "    x_test_num[i].loc[Detect_Outlier(x_test_num , i)] = np.nan"
   ]
  },
  {
   "cell_type": "code",
   "execution_count": 2631,
   "id": "151d467a",
   "metadata": {},
   "outputs": [
    {
     "data": {
      "text/plain": [
       "temp                  0.000000\n",
       "humidity              0.235738\n",
       "windspeed             3.488920\n",
       "casual                6.977841\n",
       "registered            3.394625\n",
       "rented_bikes_count    3.111740\n",
       "Profit                4.903347\n",
       "dtype: float64"
      ]
     },
     "execution_count": 2631,
     "metadata": {},
     "output_type": "execute_result"
    }
   ],
   "source": [
    "x_test_num.isnull().mean()*100"
   ]
  },
  {
   "cell_type": "code",
   "execution_count": 2632,
   "id": "6c2c12b0",
   "metadata": {},
   "outputs": [],
   "source": [
    "knn_imputer = KNNImputer()"
   ]
  },
  {
   "cell_type": "code",
   "execution_count": 2633,
   "id": "5122af06",
   "metadata": {},
   "outputs": [],
   "source": [
    "x_test_num = pd.DataFrame(knn_imputer.fit_transform(x_test_num) , columns = knn_imputer.get_feature_names_out())"
   ]
  },
  {
   "cell_type": "code",
   "execution_count": 2634,
   "id": "5e47e558",
   "metadata": {},
   "outputs": [
    {
     "name": "stdout",
     "output_type": "stream",
     "text": [
      "temp   0\n",
      "humidity   0\n",
      "windspeed   21\n",
      "casual   7\n",
      "registered   0\n",
      "rented_bikes_count   0\n",
      "Profit   1\n"
     ]
    },
    {
     "data": {
      "image/png": "[encoded data removed]",
      "text/plain": [
       "<Figure size 360x360 with 1 Axes>"
      ]
     },
     "metadata": {},
     "output_type": "display_data"
    },
    {
     "data": {
      "image/png": "[encoded data removed]",
      "text/plain": [
       "<Figure size 360x360 with 1 Axes>"
      ]
     },
     "metadata": {},
     "output_type": "display_data"
    },
    {
     "data": {
      "image/png": "[encoded data removed]",
      "text/plain": [
       "<Figure size 360x360 with 1 Axes>"
      ]
     },
     "metadata": {},
     "output_type": "display_data"
    },
    {
     "data": {
      "image/png": "[encoded data removed]",
      "text/plain": [
       "<Figure size 360x360 with 1 Axes>"
      ]
     },
     "metadata": {},
     "output_type": "display_data"
    },
    {
     "data": {
      "image/png": "[encoded data removed]",
      "text/plain": [
       "<Figure size 360x360 with 1 Axes>"
      ]
     },
     "metadata": {},
     "output_type": "display_data"
    },
    {
     "data": {
      "image/png": "[encoded data removed]",
      "text/plain": [
       "<Figure size 360x360 with 1 Axes>"
      ]
     },
     "metadata": {},
     "output_type": "display_data"
    },
    {
     "data": {
      "image/png": "[encoded data removed]",
      "text/plain": [
       "<Figure size 360x360 with 1 Axes>"
      ]
     },
     "metadata": {},
     "output_type": "display_data"
    },
    {
     "data": {
      "text/plain": [
       "<Figure size 360x360 with 0 Axes>"
      ]
     },
     "metadata": {},
     "output_type": "display_data"
    }
   ],
   "source": [
    "for i in x_test_num.columns:\n",
    "    print(f'{i}   {len(Detect_Outlier(x_test_num , i))}')\n",
    "    sns.boxplot(x_test_num[i])\n",
    "    plt.figure()"
   ]
  },
  {
   "cell_type": "code",
   "execution_count": 2635,
   "id": "b64f8110",
   "metadata": {},
   "outputs": [],
   "source": [
    "x_test_num['Year'] = Year"
   ]
  },
  {
   "cell_type": "code",
   "execution_count": 2636,
   "id": "7ecd3304",
   "metadata": {},
   "outputs": [
    {
     "data": {
      "text/html": [
       "<div>\n",
       "<style scoped>\n",
       "    .dataframe tbody tr th:only-of-type {\n",
       "        vertical-align: middle;\n",
       "    }\n",
       "\n",
       "    .dataframe tbody tr th {\n",
       "        vertical-align: top;\n",
       "    }\n",
       "\n",
       "    .dataframe thead th {\n",
       "        text-align: right;\n",
       "    }\n",
       "</style>\n",
       "<table border=\"1\" class=\"dataframe\">\n",
       "  <thead>\n",
       "    <tr style=\"text-align: right;\">\n",
       "      <th></th>\n",
       "      <th>temp</th>\n",
       "      <th>humidity</th>\n",
       "      <th>windspeed</th>\n",
       "      <th>casual</th>\n",
       "      <th>registered</th>\n",
       "      <th>rented_bikes_count</th>\n",
       "      <th>Profit</th>\n",
       "      <th>Year</th>\n",
       "    </tr>\n",
       "  </thead>\n",
       "  <tbody>\n",
       "    <tr>\n",
       "      <th>0</th>\n",
       "      <td>27.060</td>\n",
       "      <td>47.4</td>\n",
       "      <td>10.00042</td>\n",
       "      <td>45.0</td>\n",
       "      <td>240.0</td>\n",
       "      <td>285.0</td>\n",
       "      <td>1805.828767</td>\n",
       "      <td>2011.0</td>\n",
       "    </tr>\n",
       "    <tr>\n",
       "      <th>1</th>\n",
       "      <td>15.908</td>\n",
       "      <td>41.0</td>\n",
       "      <td>16.59992</td>\n",
       "      <td>9.0</td>\n",
       "      <td>129.0</td>\n",
       "      <td>138.0</td>\n",
       "      <td>709.328767</td>\n",
       "      <td>2012.0</td>\n",
       "    </tr>\n",
       "    <tr>\n",
       "      <th>2</th>\n",
       "      <td>27.060</td>\n",
       "      <td>65.0</td>\n",
       "      <td>12.99800</td>\n",
       "      <td>34.0</td>\n",
       "      <td>150.0</td>\n",
       "      <td>184.0</td>\n",
       "      <td>1229.628767</td>\n",
       "      <td>2011.0</td>\n",
       "    </tr>\n",
       "    <tr>\n",
       "      <th>3</th>\n",
       "      <td>16.400</td>\n",
       "      <td>76.0</td>\n",
       "      <td>7.40082</td>\n",
       "      <td>2.0</td>\n",
       "      <td>22.0</td>\n",
       "      <td>24.0</td>\n",
       "      <td>128.828767</td>\n",
       "      <td>2012.0</td>\n",
       "    </tr>\n",
       "    <tr>\n",
       "      <th>4</th>\n",
       "      <td>28.700</td>\n",
       "      <td>65.0</td>\n",
       "      <td>8.99810</td>\n",
       "      <td>27.0</td>\n",
       "      <td>126.0</td>\n",
       "      <td>153.0</td>\n",
       "      <td>1006.028767</td>\n",
       "      <td>2011.0</td>\n",
       "    </tr>\n",
       "  </tbody>\n",
       "</table>\n",
       "</div>"
      ],
      "text/plain": [
       "     temp  humidity  windspeed  casual  registered  rented_bikes_count  \\\n",
       "0  27.060      47.4   10.00042    45.0       240.0               285.0   \n",
       "1  15.908      41.0   16.59992     9.0       129.0               138.0   \n",
       "2  27.060      65.0   12.99800    34.0       150.0               184.0   \n",
       "3  16.400      76.0    7.40082     2.0        22.0                24.0   \n",
       "4  28.700      65.0    8.99810    27.0       126.0               153.0   \n",
       "\n",
       "        Profit    Year  \n",
       "0  1805.828767  2011.0  \n",
       "1   709.328767  2012.0  \n",
       "2  1229.628767  2011.0  \n",
       "3   128.828767  2012.0  \n",
       "4  1006.028767  2011.0  "
      ]
     },
     "execution_count": 2636,
     "metadata": {},
     "output_type": "execute_result"
    }
   ],
   "source": [
    "x_test_num.head()"
   ]
  },
  {
   "cell_type": "code",
   "execution_count": 2637,
   "id": "48224a03",
   "metadata": {},
   "outputs": [],
   "source": [
    "x_test = pd.concat([x_test_cat , x_test_num] , axis = 1)"
   ]
  },
  {
   "cell_type": "code",
   "execution_count": 2638,
   "id": "c289be6f",
   "metadata": {},
   "outputs": [],
   "source": [
    "#x_test.to_csv('test.csv' , index = False)"
   ]
  },
  {
   "cell_type": "code",
   "execution_count": 2639,
   "id": "d0de6c98",
   "metadata": {},
   "outputs": [],
   "source": [
    "y_test = x_test['Profit']\n",
    "x_test.drop(['Profit'] , axis = 1 , inplace = True)"
   ]
  },
  {
   "cell_type": "code",
   "execution_count": 2640,
   "id": "8a74e10a",
   "metadata": {},
   "outputs": [
    {
     "data": {
      "text/html": [
       "<div>\n",
       "<style scoped>\n",
       "    .dataframe tbody tr th:only-of-type {\n",
       "        vertical-align: middle;\n",
       "    }\n",
       "\n",
       "    .dataframe tbody tr th {\n",
       "        vertical-align: top;\n",
       "    }\n",
       "\n",
       "    .dataframe thead th {\n",
       "        text-align: right;\n",
       "    }\n",
       "</style>\n",
       "<table border=\"1\" class=\"dataframe\">\n",
       "  <thead>\n",
       "    <tr style=\"text-align: right;\">\n",
       "      <th></th>\n",
       "      <th>season_Spring</th>\n",
       "      <th>season_Summer</th>\n",
       "      <th>season_Winter</th>\n",
       "      <th>weather_Mist</th>\n",
       "      <th>weather_Rainy</th>\n",
       "      <th>Day_0</th>\n",
       "      <th>Day_1</th>\n",
       "      <th>Day_2</th>\n",
       "      <th>Month_0</th>\n",
       "      <th>Month_1</th>\n",
       "      <th>...</th>\n",
       "      <th>Month_3</th>\n",
       "      <th>DayPeriod_evening</th>\n",
       "      <th>DayPeriod_morning</th>\n",
       "      <th>temp</th>\n",
       "      <th>humidity</th>\n",
       "      <th>windspeed</th>\n",
       "      <th>casual</th>\n",
       "      <th>registered</th>\n",
       "      <th>rented_bikes_count</th>\n",
       "      <th>Year</th>\n",
       "    </tr>\n",
       "  </thead>\n",
       "  <tbody>\n",
       "    <tr>\n",
       "      <th>0</th>\n",
       "      <td>0.0</td>\n",
       "      <td>0.0</td>\n",
       "      <td>0.0</td>\n",
       "      <td>0.0</td>\n",
       "      <td>0.0</td>\n",
       "      <td>0</td>\n",
       "      <td>0</td>\n",
       "      <td>1</td>\n",
       "      <td>0</td>\n",
       "      <td>0</td>\n",
       "      <td>...</td>\n",
       "      <td>1</td>\n",
       "      <td>1.0</td>\n",
       "      <td>0.0</td>\n",
       "      <td>27.060</td>\n",
       "      <td>47.4</td>\n",
       "      <td>10.00042</td>\n",
       "      <td>45.0</td>\n",
       "      <td>240.0</td>\n",
       "      <td>285.0</td>\n",
       "      <td>2011.0</td>\n",
       "    </tr>\n",
       "    <tr>\n",
       "      <th>1</th>\n",
       "      <td>1.0</td>\n",
       "      <td>0.0</td>\n",
       "      <td>0.0</td>\n",
       "      <td>0.0</td>\n",
       "      <td>0.0</td>\n",
       "      <td>0</td>\n",
       "      <td>1</td>\n",
       "      <td>0</td>\n",
       "      <td>0</td>\n",
       "      <td>0</td>\n",
       "      <td>...</td>\n",
       "      <td>0</td>\n",
       "      <td>0.0</td>\n",
       "      <td>1.0</td>\n",
       "      <td>15.908</td>\n",
       "      <td>41.0</td>\n",
       "      <td>16.59992</td>\n",
       "      <td>9.0</td>\n",
       "      <td>129.0</td>\n",
       "      <td>138.0</td>\n",
       "      <td>2012.0</td>\n",
       "    </tr>\n",
       "  </tbody>\n",
       "</table>\n",
       "<p>2 rows × 21 columns</p>\n",
       "</div>"
      ],
      "text/plain": [
       "   season_Spring  season_Summer  season_Winter  weather_Mist  weather_Rainy  \\\n",
       "0            0.0            0.0            0.0           0.0            0.0   \n",
       "1            1.0            0.0            0.0           0.0            0.0   \n",
       "\n",
       "   Day_0  Day_1  Day_2  Month_0  Month_1  ...  Month_3  DayPeriod_evening  \\\n",
       "0      0      0      1        0        0  ...        1                1.0   \n",
       "1      0      1      0        0        0  ...        0                0.0   \n",
       "\n",
       "   DayPeriod_morning    temp  humidity  windspeed  casual  registered  \\\n",
       "0                0.0  27.060      47.4   10.00042    45.0       240.0   \n",
       "1                1.0  15.908      41.0   16.59992     9.0       129.0   \n",
       "\n",
       "   rented_bikes_count    Year  \n",
       "0               285.0  2011.0  \n",
       "1               138.0  2012.0  \n",
       "\n",
       "[2 rows x 21 columns]"
      ]
     },
     "execution_count": 2640,
     "metadata": {},
     "output_type": "execute_result"
    }
   ],
   "source": [
    "x_test.head(2)"
   ]
  },
  {
   "cell_type": "code",
   "execution_count": null,
   "id": "8259878d",
   "metadata": {},
   "outputs": [],
   "source": []
  }
 ],
 "metadata": {
  "kernelspec": {
   "display_name": "Python 3 (ipykernel)",
   "language": "python",
   "name": "python3"
  },
  "language_info": {
   "codemirror_mode": {
    "name": "ipython",
    "version": 3
   },
   "file_extension": ".py",
   "mimetype": "text/x-python",
   "name": "python",
   "nbconvert_exporter": "python",
   "pygments_lexer": "ipython3",
   "version": "3.10.4"
  }
 },
 "nbformat": 4,
 "nbformat_minor": 5
}
